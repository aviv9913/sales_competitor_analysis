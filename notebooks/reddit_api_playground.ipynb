{
 "cells": [
  {
   "cell_type": "markdown",
   "metadata": {},
   "source": [
    "```import os\n",
    "from dotenv import load_dotenv\n",
    "\n",
    "load_dotenv()\n",
    "\n",
    "MY_ENV_VAR = os.getenv('MY_ENV_VAR')\n",
    "\n",
    "print(MY_ENV_VAR)\n",
    "```"
   ]
  },
  {
   "cell_type": "code",
   "execution_count": 2,
   "metadata": {},
   "outputs": [],
   "source": [
    "%load_ext dotenv\n",
    "%dotenv"
   ]
  },
  {
   "cell_type": "code",
   "execution_count": null,
   "metadata": {},
   "outputs": [
    {
     "ename": "AssertionError",
     "evalue": "Missing 'REDDIT_API_CLIENT_ID' from env",
     "output_type": "error",
     "traceback": [
      "\u001b[1;31m---------------------------------------------------------------------------\u001b[0m",
      "\u001b[1;31mAssertionError\u001b[0m                            Traceback (most recent call last)",
      "Cell \u001b[1;32mIn[10], line 6\u001b[0m\n\u001b[0;32m      4\u001b[0m \u001b[38;5;28;01massert\u001b[39;00m \u001b[38;5;124m'\u001b[39m\u001b[38;5;124mREDDIT_API_CLIENT_SECRET\u001b[39m\u001b[38;5;124m'\u001b[39m \u001b[38;5;129;01min\u001b[39;00m os\u001b[38;5;241m.\u001b[39menviron\u001b[38;5;241m.\u001b[39mkeys(), \u001b[38;5;124m\"\u001b[39m\u001b[38;5;124mMissing \u001b[39m\u001b[38;5;124m'\u001b[39m\u001b[38;5;124mREDDIT_API_CLIENT_SECRET\u001b[39m\u001b[38;5;124m'\u001b[39m\u001b[38;5;124m from env\u001b[39m\u001b[38;5;124m\"\u001b[39m\n\u001b[0;32m      5\u001b[0m \u001b[38;5;28;01massert\u001b[39;00m \u001b[38;5;124m'\u001b[39m\u001b[38;5;124mREDDIT_API_CLIENT_ID\u001b[39m\u001b[38;5;124m'\u001b[39m \u001b[38;5;129;01min\u001b[39;00m os\u001b[38;5;241m.\u001b[39menviron\u001b[38;5;241m.\u001b[39mkeys(), \u001b[38;5;124m\"\u001b[39m\u001b[38;5;124mMissing \u001b[39m\u001b[38;5;124m'\u001b[39m\u001b[38;5;124mREDDIT_API_CLIENT_ID\u001b[39m\u001b[38;5;124m'\u001b[39m\u001b[38;5;124m from env\u001b[39m\u001b[38;5;124m\"\u001b[39m\n\u001b[1;32m----> 6\u001b[0m \u001b[38;5;28;01massert\u001b[39;00m \u001b[38;5;124m'\u001b[39m\u001b[38;5;124ma\u001b[39m\u001b[38;5;124m'\u001b[39m \u001b[38;5;129;01min\u001b[39;00m os\u001b[38;5;241m.\u001b[39menviron\u001b[38;5;241m.\u001b[39mkeys(), \u001b[38;5;124m\"\u001b[39m\u001b[38;5;124mMissing \u001b[39m\u001b[38;5;124m'\u001b[39m\u001b[38;5;124mREDDIT_API_CLIENT_ID\u001b[39m\u001b[38;5;124m'\u001b[39m\u001b[38;5;124m from env\u001b[39m\u001b[38;5;124m\"\u001b[39m\n",
      "\u001b[1;31mAssertionError\u001b[0m: Missing 'REDDIT_API_CLIENT_ID' from env"
     ]
    }
   ],
   "source": [
    "import os\n",
    "\n",
    "assert 'OPENAI_API_KEY' in os.environ.keys(), \"Missing 'OPENAI_API_KEY' from env\"\n",
    "assert 'REDDIT_API_CLIENT_SECRET' in os.environ.keys(), \"Missing 'REDDIT_API_CLIENT_SECRET' from env\"\n",
    "assert 'REDDIT_API_CLIENT_ID' in os.environ.keys(), \"Missing 'REDDIT_API_CLIENT_ID' from env\""
   ]
  },
  {
   "cell_type": "code",
   "execution_count": null,
   "metadata": {},
   "outputs": [
    {
     "name": "stdout",
     "output_type": "stream",
     "text": [
      "Fetching top 5 posts from r/learnpython\n",
      "\n",
      "Post Title: Ask Anything Monday - Weekly Thread\n",
      "Post ID: 1i5d1s3\n",
      "Score: 3\n",
      "URL: https://www.reddit.com/r/learnpython/comments/1i5d1s3/ask_anything_monday_weekly_thread/\n",
      "\n",
      "Comments:\n",
      "- Ok I want to learn how to code, I have for a while but life has just been to busy, I finally have th...\n",
      "- Ok, so I’m completely new to python. I just downloaded it and every time I go to type anything it ju...\n",
      "- I'm writing a silly little script just for the sake of learning python,  that lets me input 2 values...\n",
      "- I’ve been working on a project that I’d love to get your feedback on. It is a collection of four Pyt...\n",
      "- silly question sorry but is a .py file always just raw code, no output? If i wanted to export code a...\n",
      "\n",
      "Post Title: How would you recommend to learn Python if you’re completely new to coding?\n",
      "Post ID: 1i9n1cq\n",
      "Score: 26\n",
      "URL: https://www.reddit.com/r/learnpython/comments/1i9n1cq/how_would_you_recommend_to_learn_python_if_youre/\n",
      "\n",
      "Comments:\n",
      "- People usually recommend [Harvard CS50](https://youtu.be/nLRL_NcnK-4?si=rRgDmNt0BKSDiqhb) and so do ...\n",
      "- I made a post here a little while ago that was well received so I’ll link it https://www.reddit.com/...\n",
      "- CS50p...\n",
      "- If you are new to anything , it will be tough.\n",
      "\n",
      "Took me nearly a week to get used to HelloWorld in J...\n",
      "- I like Learn Python The Hard Way. It’s a great from-scratch lesson that assumes no knowledge and enc...\n",
      "\n",
      "Post Title: Beginner project: Tax Calculator\n",
      "Post ID: 1i9qo7c\n",
      "Score: 7\n",
      "URL: https://www.reddit.com/r/learnpython/comments/1i9qo7c/beginner_project_tax_calculator/\n",
      "\n",
      "Comments:\n",
      "- Ok?...\n",
      "- a project where I had fun with maybe other beginners can have fun with it to :))...\n",
      "\n",
      "Post Title: 10 Python Tips for 2025\n",
      "Post ID: 1i9s84h\n",
      "Score: 3\n",
      "URL: https://www.reddit.com/r/learnpython/comments/1i9s84h/10_python_tips_for_2025/\n",
      "\n",
      "Comments:\n"
     ]
    },
    {
     "ename": "KeyboardInterrupt",
     "evalue": "",
     "output_type": "error",
     "traceback": [
      "\u001b[1;31m---------------------------------------------------------------------------\u001b[0m",
      "\u001b[1;31mKeyboardInterrupt\u001b[0m                         Traceback (most recent call last)",
      "Cell \u001b[1;32mIn[26], line 24\u001b[0m\n\u001b[0;32m     22\u001b[0m \u001b[38;5;66;03m# Fetch comments for the post\u001b[39;00m\n\u001b[0;32m     23\u001b[0m \u001b[38;5;28mprint\u001b[39m(\u001b[38;5;124m\"\u001b[39m\u001b[38;5;130;01m\\n\u001b[39;00m\u001b[38;5;124mComments:\u001b[39m\u001b[38;5;124m\"\u001b[39m)\n\u001b[1;32m---> 24\u001b[0m \u001b[43mpost\u001b[49m\u001b[38;5;241;43m.\u001b[39;49m\u001b[43mcomments\u001b[49m\u001b[38;5;241m.\u001b[39mreplace_more(limit\u001b[38;5;241m=\u001b[39m\u001b[38;5;241m0\u001b[39m)  \u001b[38;5;66;03m# Remove \"load more comments\"\u001b[39;00m\n\u001b[0;32m     25\u001b[0m \u001b[38;5;28;01mfor\u001b[39;00m comment \u001b[38;5;129;01min\u001b[39;00m post\u001b[38;5;241m.\u001b[39mcomments\u001b[38;5;241m.\u001b[39mlist()[:\u001b[38;5;241m5\u001b[39m]:  \u001b[38;5;66;03m# Limit to the first 5 comments\u001b[39;00m\n\u001b[0;32m     26\u001b[0m     \u001b[38;5;28mprint\u001b[39m(\u001b[38;5;124mf\u001b[39m\u001b[38;5;124m\"\u001b[39m\u001b[38;5;124m- \u001b[39m\u001b[38;5;132;01m{\u001b[39;00mcomment\u001b[38;5;241m.\u001b[39mbody[:\u001b[38;5;241m100\u001b[39m]\u001b[38;5;132;01m}\u001b[39;00m\u001b[38;5;124m...\u001b[39m\u001b[38;5;124m\"\u001b[39m)  \u001b[38;5;66;03m# Print first 100 characters of each comment\u001b[39;00m\n",
      "File \u001b[1;32mc:\\Users\\Aviv9\\miniconda3\\envs\\LLMExcersie\\Lib\\site-packages\\praw\\models\\reddit\\base.py:38\u001b[0m, in \u001b[0;36mRedditBase.__getattr__\u001b[1;34m(self, attribute)\u001b[0m\n\u001b[0;32m     36\u001b[0m \u001b[38;5;250m\u001b[39m\u001b[38;5;124;03m\"\"\"Return the value of ``attribute``.\"\"\"\u001b[39;00m\n\u001b[0;32m     37\u001b[0m \u001b[38;5;28;01mif\u001b[39;00m \u001b[38;5;129;01mnot\u001b[39;00m attribute\u001b[38;5;241m.\u001b[39mstartswith(\u001b[38;5;124m\"\u001b[39m\u001b[38;5;124m_\u001b[39m\u001b[38;5;124m\"\u001b[39m) \u001b[38;5;129;01mand\u001b[39;00m \u001b[38;5;129;01mnot\u001b[39;00m \u001b[38;5;28mself\u001b[39m\u001b[38;5;241m.\u001b[39m_fetched:\n\u001b[1;32m---> 38\u001b[0m     \u001b[38;5;28;43mself\u001b[39;49m\u001b[38;5;241;43m.\u001b[39;49m\u001b[43m_fetch\u001b[49m\u001b[43m(\u001b[49m\u001b[43m)\u001b[49m\n\u001b[0;32m     39\u001b[0m     \u001b[38;5;28;01mreturn\u001b[39;00m \u001b[38;5;28mgetattr\u001b[39m(\u001b[38;5;28mself\u001b[39m, attribute)\n\u001b[0;32m     40\u001b[0m msg \u001b[38;5;241m=\u001b[39m \u001b[38;5;124mf\u001b[39m\u001b[38;5;124m\"\u001b[39m\u001b[38;5;132;01m{\u001b[39;00m\u001b[38;5;28mself\u001b[39m\u001b[38;5;241m.\u001b[39m\u001b[38;5;18m__class__\u001b[39m\u001b[38;5;241m.\u001b[39m\u001b[38;5;18m__name__\u001b[39m\u001b[38;5;132;01m!r}\u001b[39;00m\u001b[38;5;124m object has no attribute \u001b[39m\u001b[38;5;132;01m{\u001b[39;00mattribute\u001b[38;5;132;01m!r}\u001b[39;00m\u001b[38;5;124m\"\u001b[39m\n",
      "File \u001b[1;32mc:\\Users\\Aviv9\\miniconda3\\envs\\LLMExcersie\\Lib\\site-packages\\praw\\models\\reddit\\submission.py:726\u001b[0m, in \u001b[0;36mSubmission._fetch\u001b[1;34m(self)\u001b[0m\n\u001b[0;32m    725\u001b[0m \u001b[38;5;28;01mdef\u001b[39;00m\u001b[38;5;250m \u001b[39m\u001b[38;5;21m_fetch\u001b[39m(\u001b[38;5;28mself\u001b[39m):\n\u001b[1;32m--> 726\u001b[0m     data \u001b[38;5;241m=\u001b[39m \u001b[38;5;28;43mself\u001b[39;49m\u001b[38;5;241;43m.\u001b[39;49m\u001b[43m_fetch_data\u001b[49m\u001b[43m(\u001b[49m\u001b[43m)\u001b[49m\n\u001b[0;32m    727\u001b[0m     submission_listing, comment_listing \u001b[38;5;241m=\u001b[39m data\n\u001b[0;32m    728\u001b[0m     comment_listing \u001b[38;5;241m=\u001b[39m Listing(\u001b[38;5;28mself\u001b[39m\u001b[38;5;241m.\u001b[39m_reddit, _data\u001b[38;5;241m=\u001b[39mcomment_listing[\u001b[38;5;124m\"\u001b[39m\u001b[38;5;124mdata\u001b[39m\u001b[38;5;124m\"\u001b[39m])\n",
      "File \u001b[1;32mc:\\Users\\Aviv9\\miniconda3\\envs\\LLMExcersie\\Lib\\site-packages\\praw\\models\\reddit\\submission.py:744\u001b[0m, in \u001b[0;36mSubmission._fetch_data\u001b[1;34m(self)\u001b[0m\n\u001b[0;32m    742\u001b[0m params\u001b[38;5;241m.\u001b[39mupdate(\u001b[38;5;28mself\u001b[39m\u001b[38;5;241m.\u001b[39m_additional_fetch_params\u001b[38;5;241m.\u001b[39mcopy())\n\u001b[0;32m    743\u001b[0m path \u001b[38;5;241m=\u001b[39m API_PATH[name]\u001b[38;5;241m.\u001b[39mformat(\u001b[38;5;241m*\u001b[39m\u001b[38;5;241m*\u001b[39mfields)\n\u001b[1;32m--> 744\u001b[0m \u001b[38;5;28;01mreturn\u001b[39;00m \u001b[38;5;28;43mself\u001b[39;49m\u001b[38;5;241;43m.\u001b[39;49m\u001b[43m_reddit\u001b[49m\u001b[38;5;241;43m.\u001b[39;49m\u001b[43mrequest\u001b[49m\u001b[43m(\u001b[49m\u001b[43mmethod\u001b[49m\u001b[38;5;241;43m=\u001b[39;49m\u001b[38;5;124;43m\"\u001b[39;49m\u001b[38;5;124;43mGET\u001b[39;49m\u001b[38;5;124;43m\"\u001b[39;49m\u001b[43m,\u001b[49m\u001b[43m \u001b[49m\u001b[43mparams\u001b[49m\u001b[38;5;241;43m=\u001b[39;49m\u001b[43mparams\u001b[49m\u001b[43m,\u001b[49m\u001b[43m \u001b[49m\u001b[43mpath\u001b[49m\u001b[38;5;241;43m=\u001b[39;49m\u001b[43mpath\u001b[49m\u001b[43m)\u001b[49m\n",
      "File \u001b[1;32mc:\\Users\\Aviv9\\miniconda3\\envs\\LLMExcersie\\Lib\\site-packages\\praw\\util\\deprecate_args.py:46\u001b[0m, in \u001b[0;36m_deprecate_args.<locals>.wrapper.<locals>.wrapped\u001b[1;34m(*args, **kwargs)\u001b[0m\n\u001b[0;32m     39\u001b[0m     arg_string \u001b[38;5;241m=\u001b[39m _generate_arg_string(_old_args[: \u001b[38;5;28mlen\u001b[39m(args)])\n\u001b[0;32m     40\u001b[0m     warn(\n\u001b[0;32m     41\u001b[0m         \u001b[38;5;124mf\u001b[39m\u001b[38;5;124m\"\u001b[39m\u001b[38;5;124mPositional arguments for \u001b[39m\u001b[38;5;132;01m{\u001b[39;00mfunc\u001b[38;5;241m.\u001b[39m\u001b[38;5;18m__qualname__\u001b[39m\u001b[38;5;132;01m!r}\u001b[39;00m\u001b[38;5;124m will no longer be\u001b[39m\u001b[38;5;124m\"\u001b[39m\n\u001b[0;32m     42\u001b[0m         \u001b[38;5;124mf\u001b[39m\u001b[38;5;124m\"\u001b[39m\u001b[38;5;124m supported in PRAW 8.\u001b[39m\u001b[38;5;130;01m\\n\u001b[39;00m\u001b[38;5;124mCall this function with \u001b[39m\u001b[38;5;132;01m{\u001b[39;00marg_string\u001b[38;5;132;01m}\u001b[39;00m\u001b[38;5;124m.\u001b[39m\u001b[38;5;124m\"\u001b[39m,\n\u001b[0;32m     43\u001b[0m         \u001b[38;5;167;01mDeprecationWarning\u001b[39;00m,\n\u001b[0;32m     44\u001b[0m         stacklevel\u001b[38;5;241m=\u001b[39m\u001b[38;5;241m2\u001b[39m,\n\u001b[0;32m     45\u001b[0m     )\n\u001b[1;32m---> 46\u001b[0m \u001b[38;5;28;01mreturn\u001b[39;00m \u001b[43mfunc\u001b[49m\u001b[43m(\u001b[49m\u001b[38;5;241;43m*\u001b[39;49m\u001b[38;5;241;43m*\u001b[39;49m\u001b[38;5;28;43mdict\u001b[39;49m\u001b[43m(\u001b[49m\u001b[38;5;28;43mzip\u001b[39;49m\u001b[43m(\u001b[49m\u001b[43m_old_args\u001b[49m\u001b[43m,\u001b[49m\u001b[43m \u001b[49m\u001b[43margs\u001b[49m\u001b[43m)\u001b[49m\u001b[43m)\u001b[49m\u001b[43m,\u001b[49m\u001b[43m \u001b[49m\u001b[38;5;241;43m*\u001b[39;49m\u001b[38;5;241;43m*\u001b[39;49m\u001b[43mkwargs\u001b[49m\u001b[43m)\u001b[49m\n",
      "File \u001b[1;32mc:\\Users\\Aviv9\\miniconda3\\envs\\LLMExcersie\\Lib\\site-packages\\praw\\reddit.py:963\u001b[0m, in \u001b[0;36mReddit.request\u001b[1;34m(self, data, files, json, method, params, path)\u001b[0m\n\u001b[0;32m    961\u001b[0m     \u001b[38;5;28;01mraise\u001b[39;00m ClientException(msg)\n\u001b[0;32m    962\u001b[0m \u001b[38;5;28;01mtry\u001b[39;00m:\n\u001b[1;32m--> 963\u001b[0m     \u001b[38;5;28;01mreturn\u001b[39;00m \u001b[38;5;28;43mself\u001b[39;49m\u001b[38;5;241;43m.\u001b[39;49m\u001b[43m_core\u001b[49m\u001b[38;5;241;43m.\u001b[39;49m\u001b[43mrequest\u001b[49m\u001b[43m(\u001b[49m\n\u001b[0;32m    964\u001b[0m \u001b[43m        \u001b[49m\u001b[43mdata\u001b[49m\u001b[38;5;241;43m=\u001b[39;49m\u001b[43mdata\u001b[49m\u001b[43m,\u001b[49m\n\u001b[0;32m    965\u001b[0m \u001b[43m        \u001b[49m\u001b[43mfiles\u001b[49m\u001b[38;5;241;43m=\u001b[39;49m\u001b[43mfiles\u001b[49m\u001b[43m,\u001b[49m\n\u001b[0;32m    966\u001b[0m \u001b[43m        \u001b[49m\u001b[43mjson\u001b[49m\u001b[38;5;241;43m=\u001b[39;49m\u001b[43mjson\u001b[49m\u001b[43m,\u001b[49m\n\u001b[0;32m    967\u001b[0m \u001b[43m        \u001b[49m\u001b[43mmethod\u001b[49m\u001b[38;5;241;43m=\u001b[39;49m\u001b[43mmethod\u001b[49m\u001b[43m,\u001b[49m\n\u001b[0;32m    968\u001b[0m \u001b[43m        \u001b[49m\u001b[43mparams\u001b[49m\u001b[38;5;241;43m=\u001b[39;49m\u001b[43mparams\u001b[49m\u001b[43m,\u001b[49m\n\u001b[0;32m    969\u001b[0m \u001b[43m        \u001b[49m\u001b[43mpath\u001b[49m\u001b[38;5;241;43m=\u001b[39;49m\u001b[43mpath\u001b[49m\u001b[43m,\u001b[49m\n\u001b[0;32m    970\u001b[0m \u001b[43m    \u001b[49m\u001b[43m)\u001b[49m\n\u001b[0;32m    971\u001b[0m \u001b[38;5;28;01mexcept\u001b[39;00m BadRequest \u001b[38;5;28;01mas\u001b[39;00m exception:\n\u001b[0;32m    972\u001b[0m     \u001b[38;5;28;01mtry\u001b[39;00m:\n",
      "File \u001b[1;32mc:\\Users\\Aviv9\\miniconda3\\envs\\LLMExcersie\\Lib\\site-packages\\prawcore\\sessions.py:328\u001b[0m, in \u001b[0;36mSession.request\u001b[1;34m(self, method, path, data, files, json, params, timeout)\u001b[0m\n\u001b[0;32m    326\u001b[0m     json[\u001b[38;5;124m\"\u001b[39m\u001b[38;5;124mapi_type\u001b[39m\u001b[38;5;124m\"\u001b[39m] \u001b[38;5;241m=\u001b[39m \u001b[38;5;124m\"\u001b[39m\u001b[38;5;124mjson\u001b[39m\u001b[38;5;124m\"\u001b[39m\n\u001b[0;32m    327\u001b[0m url \u001b[38;5;241m=\u001b[39m urljoin(\u001b[38;5;28mself\u001b[39m\u001b[38;5;241m.\u001b[39m_requestor\u001b[38;5;241m.\u001b[39moauth_url, path)\n\u001b[1;32m--> 328\u001b[0m \u001b[38;5;28;01mreturn\u001b[39;00m \u001b[38;5;28;43mself\u001b[39;49m\u001b[38;5;241;43m.\u001b[39;49m\u001b[43m_request_with_retries\u001b[49m\u001b[43m(\u001b[49m\n\u001b[0;32m    329\u001b[0m \u001b[43m    \u001b[49m\u001b[43mdata\u001b[49m\u001b[38;5;241;43m=\u001b[39;49m\u001b[43mdata\u001b[49m\u001b[43m,\u001b[49m\n\u001b[0;32m    330\u001b[0m \u001b[43m    \u001b[49m\u001b[43mfiles\u001b[49m\u001b[38;5;241;43m=\u001b[39;49m\u001b[43mfiles\u001b[49m\u001b[43m,\u001b[49m\n\u001b[0;32m    331\u001b[0m \u001b[43m    \u001b[49m\u001b[43mjson\u001b[49m\u001b[38;5;241;43m=\u001b[39;49m\u001b[43mjson\u001b[49m\u001b[43m,\u001b[49m\n\u001b[0;32m    332\u001b[0m \u001b[43m    \u001b[49m\u001b[43mmethod\u001b[49m\u001b[38;5;241;43m=\u001b[39;49m\u001b[43mmethod\u001b[49m\u001b[43m,\u001b[49m\n\u001b[0;32m    333\u001b[0m \u001b[43m    \u001b[49m\u001b[43mparams\u001b[49m\u001b[38;5;241;43m=\u001b[39;49m\u001b[43mparams\u001b[49m\u001b[43m,\u001b[49m\n\u001b[0;32m    334\u001b[0m \u001b[43m    \u001b[49m\u001b[43mtimeout\u001b[49m\u001b[38;5;241;43m=\u001b[39;49m\u001b[43mtimeout\u001b[49m\u001b[43m,\u001b[49m\n\u001b[0;32m    335\u001b[0m \u001b[43m    \u001b[49m\u001b[43murl\u001b[49m\u001b[38;5;241;43m=\u001b[39;49m\u001b[43murl\u001b[49m\u001b[43m,\u001b[49m\n\u001b[0;32m    336\u001b[0m \u001b[43m\u001b[49m\u001b[43m)\u001b[49m\n",
      "File \u001b[1;32mc:\\Users\\Aviv9\\miniconda3\\envs\\LLMExcersie\\Lib\\site-packages\\prawcore\\sessions.py:234\u001b[0m, in \u001b[0;36mSession._request_with_retries\u001b[1;34m(self, data, files, json, method, params, timeout, url, retry_strategy_state)\u001b[0m\n\u001b[0;32m    232\u001b[0m retry_strategy_state\u001b[38;5;241m.\u001b[39msleep()\n\u001b[0;32m    233\u001b[0m \u001b[38;5;28mself\u001b[39m\u001b[38;5;241m.\u001b[39m_log_request(data, method, params, url)\n\u001b[1;32m--> 234\u001b[0m response, saved_exception \u001b[38;5;241m=\u001b[39m \u001b[38;5;28;43mself\u001b[39;49m\u001b[38;5;241;43m.\u001b[39;49m\u001b[43m_make_request\u001b[49m\u001b[43m(\u001b[49m\n\u001b[0;32m    235\u001b[0m \u001b[43m    \u001b[49m\u001b[43mdata\u001b[49m\u001b[43m,\u001b[49m\n\u001b[0;32m    236\u001b[0m \u001b[43m    \u001b[49m\u001b[43mfiles\u001b[49m\u001b[43m,\u001b[49m\n\u001b[0;32m    237\u001b[0m \u001b[43m    \u001b[49m\u001b[43mjson\u001b[49m\u001b[43m,\u001b[49m\n\u001b[0;32m    238\u001b[0m \u001b[43m    \u001b[49m\u001b[43mmethod\u001b[49m\u001b[43m,\u001b[49m\n\u001b[0;32m    239\u001b[0m \u001b[43m    \u001b[49m\u001b[43mparams\u001b[49m\u001b[43m,\u001b[49m\n\u001b[0;32m    240\u001b[0m \u001b[43m    \u001b[49m\u001b[43mretry_strategy_state\u001b[49m\u001b[43m,\u001b[49m\n\u001b[0;32m    241\u001b[0m \u001b[43m    \u001b[49m\u001b[43mtimeout\u001b[49m\u001b[43m,\u001b[49m\n\u001b[0;32m    242\u001b[0m \u001b[43m    \u001b[49m\u001b[43murl\u001b[49m\u001b[43m,\u001b[49m\n\u001b[0;32m    243\u001b[0m \u001b[43m\u001b[49m\u001b[43m)\u001b[49m\n\u001b[0;32m    245\u001b[0m do_retry \u001b[38;5;241m=\u001b[39m \u001b[38;5;28;01mFalse\u001b[39;00m\n\u001b[0;32m    246\u001b[0m \u001b[38;5;28;01mif\u001b[39;00m response \u001b[38;5;129;01mis\u001b[39;00m \u001b[38;5;129;01mnot\u001b[39;00m \u001b[38;5;28;01mNone\u001b[39;00m \u001b[38;5;129;01mand\u001b[39;00m response\u001b[38;5;241m.\u001b[39mstatus_code \u001b[38;5;241m==\u001b[39m codes[\u001b[38;5;124m\"\u001b[39m\u001b[38;5;124munauthorized\u001b[39m\u001b[38;5;124m\"\u001b[39m]:\n",
      "File \u001b[1;32mc:\\Users\\Aviv9\\miniconda3\\envs\\LLMExcersie\\Lib\\site-packages\\prawcore\\sessions.py:186\u001b[0m, in \u001b[0;36mSession._make_request\u001b[1;34m(self, data, files, json, method, params, retry_strategy_state, timeout, url)\u001b[0m\n\u001b[0;32m    174\u001b[0m \u001b[38;5;28;01mdef\u001b[39;00m\u001b[38;5;250m \u001b[39m\u001b[38;5;21m_make_request\u001b[39m(\n\u001b[0;32m    175\u001b[0m     \u001b[38;5;28mself\u001b[39m,\n\u001b[0;32m    176\u001b[0m     data: \u001b[38;5;28mlist\u001b[39m[\u001b[38;5;28mtuple\u001b[39m[\u001b[38;5;28mstr\u001b[39m, Any]],\n\u001b[1;32m   (...)\u001b[0m\n\u001b[0;32m    183\u001b[0m     url: \u001b[38;5;28mstr\u001b[39m,\n\u001b[0;32m    184\u001b[0m ) \u001b[38;5;241m-\u001b[39m\u001b[38;5;241m>\u001b[39m \u001b[38;5;28mtuple\u001b[39m[Response, \u001b[38;5;28;01mNone\u001b[39;00m] \u001b[38;5;241m|\u001b[39m \u001b[38;5;28mtuple\u001b[39m[\u001b[38;5;28;01mNone\u001b[39;00m, \u001b[38;5;167;01mException\u001b[39;00m]:\n\u001b[0;32m    185\u001b[0m     \u001b[38;5;28;01mtry\u001b[39;00m:\n\u001b[1;32m--> 186\u001b[0m         response \u001b[38;5;241m=\u001b[39m \u001b[38;5;28;43mself\u001b[39;49m\u001b[38;5;241;43m.\u001b[39;49m\u001b[43m_rate_limiter\u001b[49m\u001b[38;5;241;43m.\u001b[39;49m\u001b[43mcall\u001b[49m\u001b[43m(\u001b[49m\n\u001b[0;32m    187\u001b[0m \u001b[43m            \u001b[49m\u001b[38;5;28;43mself\u001b[39;49m\u001b[38;5;241;43m.\u001b[39;49m\u001b[43m_requestor\u001b[49m\u001b[38;5;241;43m.\u001b[39;49m\u001b[43mrequest\u001b[49m\u001b[43m,\u001b[49m\n\u001b[0;32m    188\u001b[0m \u001b[43m            \u001b[49m\u001b[38;5;28;43mself\u001b[39;49m\u001b[38;5;241;43m.\u001b[39;49m\u001b[43m_set_header_callback\u001b[49m\u001b[43m,\u001b[49m\n\u001b[0;32m    189\u001b[0m \u001b[43m            \u001b[49m\u001b[43mmethod\u001b[49m\u001b[43m,\u001b[49m\n\u001b[0;32m    190\u001b[0m \u001b[43m            \u001b[49m\u001b[43murl\u001b[49m\u001b[43m,\u001b[49m\n\u001b[0;32m    191\u001b[0m \u001b[43m            \u001b[49m\u001b[43mallow_redirects\u001b[49m\u001b[38;5;241;43m=\u001b[39;49m\u001b[38;5;28;43;01mFalse\u001b[39;49;00m\u001b[43m,\u001b[49m\n\u001b[0;32m    192\u001b[0m \u001b[43m            \u001b[49m\u001b[43mdata\u001b[49m\u001b[38;5;241;43m=\u001b[39;49m\u001b[43mdata\u001b[49m\u001b[43m,\u001b[49m\n\u001b[0;32m    193\u001b[0m \u001b[43m            \u001b[49m\u001b[43mfiles\u001b[49m\u001b[38;5;241;43m=\u001b[39;49m\u001b[43mfiles\u001b[49m\u001b[43m,\u001b[49m\n\u001b[0;32m    194\u001b[0m \u001b[43m            \u001b[49m\u001b[43mjson\u001b[49m\u001b[38;5;241;43m=\u001b[39;49m\u001b[43mjson\u001b[49m\u001b[43m,\u001b[49m\n\u001b[0;32m    195\u001b[0m \u001b[43m            \u001b[49m\u001b[43mparams\u001b[49m\u001b[38;5;241;43m=\u001b[39;49m\u001b[43mparams\u001b[49m\u001b[43m,\u001b[49m\n\u001b[0;32m    196\u001b[0m \u001b[43m            \u001b[49m\u001b[43mtimeout\u001b[49m\u001b[38;5;241;43m=\u001b[39;49m\u001b[43mtimeout\u001b[49m\u001b[43m,\u001b[49m\n\u001b[0;32m    197\u001b[0m \u001b[43m        \u001b[49m\u001b[43m)\u001b[49m\n\u001b[0;32m    198\u001b[0m         log\u001b[38;5;241m.\u001b[39mdebug(\n\u001b[0;32m    199\u001b[0m             \u001b[38;5;124m\"\u001b[39m\u001b[38;5;124mResponse: \u001b[39m\u001b[38;5;132;01m%s\u001b[39;00m\u001b[38;5;124m (\u001b[39m\u001b[38;5;132;01m%s\u001b[39;00m\u001b[38;5;124m bytes) (rst-\u001b[39m\u001b[38;5;132;01m%s\u001b[39;00m\u001b[38;5;124m:rem-\u001b[39m\u001b[38;5;132;01m%s\u001b[39;00m\u001b[38;5;124m:used-\u001b[39m\u001b[38;5;132;01m%s\u001b[39;00m\u001b[38;5;124m ratelimit) at \u001b[39m\u001b[38;5;132;01m%s\u001b[39;00m\u001b[38;5;124m\"\u001b[39m,\n\u001b[0;32m    200\u001b[0m             response\u001b[38;5;241m.\u001b[39mstatus_code,\n\u001b[1;32m   (...)\u001b[0m\n\u001b[0;32m    205\u001b[0m             time\u001b[38;5;241m.\u001b[39mtime(),\n\u001b[0;32m    206\u001b[0m         )\n\u001b[0;32m    207\u001b[0m         \u001b[38;5;28;01mreturn\u001b[39;00m response, \u001b[38;5;28;01mNone\u001b[39;00m\n",
      "File \u001b[1;32mc:\\Users\\Aviv9\\miniconda3\\envs\\LLMExcersie\\Lib\\site-packages\\prawcore\\rate_limit.py:47\u001b[0m, in \u001b[0;36mRateLimiter.call\u001b[1;34m(self, request_function, set_header_callback, *args, **kwargs)\u001b[0m\n\u001b[0;32m     45\u001b[0m \u001b[38;5;28mself\u001b[39m\u001b[38;5;241m.\u001b[39mdelay()\n\u001b[0;32m     46\u001b[0m kwargs[\u001b[38;5;124m\"\u001b[39m\u001b[38;5;124mheaders\u001b[39m\u001b[38;5;124m\"\u001b[39m] \u001b[38;5;241m=\u001b[39m set_header_callback()\n\u001b[1;32m---> 47\u001b[0m response \u001b[38;5;241m=\u001b[39m \u001b[43mrequest_function\u001b[49m\u001b[43m(\u001b[49m\u001b[38;5;241;43m*\u001b[39;49m\u001b[43margs\u001b[49m\u001b[43m,\u001b[49m\u001b[43m \u001b[49m\u001b[38;5;241;43m*\u001b[39;49m\u001b[38;5;241;43m*\u001b[39;49m\u001b[43mkwargs\u001b[49m\u001b[43m)\u001b[49m\n\u001b[0;32m     48\u001b[0m \u001b[38;5;28mself\u001b[39m\u001b[38;5;241m.\u001b[39mupdate(response\u001b[38;5;241m.\u001b[39mheaders)\n\u001b[0;32m     49\u001b[0m \u001b[38;5;28;01mreturn\u001b[39;00m response\n",
      "File \u001b[1;32mc:\\Users\\Aviv9\\miniconda3\\envs\\LLMExcersie\\Lib\\site-packages\\prawcore\\requestor.py:68\u001b[0m, in \u001b[0;36mRequestor.request\u001b[1;34m(self, timeout, *args, **kwargs)\u001b[0m\n\u001b[0;32m     66\u001b[0m \u001b[38;5;250m\u001b[39m\u001b[38;5;124;03m\"\"\"Issue the HTTP request capturing any errors that may occur.\"\"\"\u001b[39;00m\n\u001b[0;32m     67\u001b[0m \u001b[38;5;28;01mtry\u001b[39;00m:\n\u001b[1;32m---> 68\u001b[0m     \u001b[38;5;28;01mreturn\u001b[39;00m \u001b[38;5;28;43mself\u001b[39;49m\u001b[38;5;241;43m.\u001b[39;49m\u001b[43m_http\u001b[49m\u001b[38;5;241;43m.\u001b[39;49m\u001b[43mrequest\u001b[49m\u001b[43m(\u001b[49m\u001b[38;5;241;43m*\u001b[39;49m\u001b[43margs\u001b[49m\u001b[43m,\u001b[49m\u001b[43m \u001b[49m\u001b[43mtimeout\u001b[49m\u001b[38;5;241;43m=\u001b[39;49m\u001b[43mtimeout\u001b[49m\u001b[43m \u001b[49m\u001b[38;5;129;43;01mor\u001b[39;49;00m\u001b[43m \u001b[49m\u001b[38;5;28;43mself\u001b[39;49m\u001b[38;5;241;43m.\u001b[39;49m\u001b[43mtimeout\u001b[49m\u001b[43m,\u001b[49m\u001b[43m \u001b[49m\u001b[38;5;241;43m*\u001b[39;49m\u001b[38;5;241;43m*\u001b[39;49m\u001b[43mkwargs\u001b[49m\u001b[43m)\u001b[49m\n\u001b[0;32m     69\u001b[0m \u001b[38;5;28;01mexcept\u001b[39;00m \u001b[38;5;167;01mException\u001b[39;00m \u001b[38;5;28;01mas\u001b[39;00m exc:  \u001b[38;5;66;03m# noqa: BLE001\u001b[39;00m\n\u001b[0;32m     70\u001b[0m     \u001b[38;5;28;01mraise\u001b[39;00m RequestException(exc, args, kwargs) \u001b[38;5;28;01mfrom\u001b[39;00m\u001b[38;5;250m \u001b[39m\u001b[38;5;28;01mNone\u001b[39;00m\n",
      "File \u001b[1;32mc:\\Users\\Aviv9\\miniconda3\\envs\\LLMExcersie\\Lib\\site-packages\\requests\\sessions.py:589\u001b[0m, in \u001b[0;36mSession.request\u001b[1;34m(self, method, url, params, data, headers, cookies, files, auth, timeout, allow_redirects, proxies, hooks, stream, verify, cert, json)\u001b[0m\n\u001b[0;32m    584\u001b[0m send_kwargs \u001b[38;5;241m=\u001b[39m {\n\u001b[0;32m    585\u001b[0m     \u001b[38;5;124m\"\u001b[39m\u001b[38;5;124mtimeout\u001b[39m\u001b[38;5;124m\"\u001b[39m: timeout,\n\u001b[0;32m    586\u001b[0m     \u001b[38;5;124m\"\u001b[39m\u001b[38;5;124mallow_redirects\u001b[39m\u001b[38;5;124m\"\u001b[39m: allow_redirects,\n\u001b[0;32m    587\u001b[0m }\n\u001b[0;32m    588\u001b[0m send_kwargs\u001b[38;5;241m.\u001b[39mupdate(settings)\n\u001b[1;32m--> 589\u001b[0m resp \u001b[38;5;241m=\u001b[39m \u001b[38;5;28;43mself\u001b[39;49m\u001b[38;5;241;43m.\u001b[39;49m\u001b[43msend\u001b[49m\u001b[43m(\u001b[49m\u001b[43mprep\u001b[49m\u001b[43m,\u001b[49m\u001b[43m \u001b[49m\u001b[38;5;241;43m*\u001b[39;49m\u001b[38;5;241;43m*\u001b[39;49m\u001b[43msend_kwargs\u001b[49m\u001b[43m)\u001b[49m\n\u001b[0;32m    591\u001b[0m \u001b[38;5;28;01mreturn\u001b[39;00m resp\n",
      "File \u001b[1;32mc:\\Users\\Aviv9\\miniconda3\\envs\\LLMExcersie\\Lib\\site-packages\\requests\\sessions.py:703\u001b[0m, in \u001b[0;36mSession.send\u001b[1;34m(self, request, **kwargs)\u001b[0m\n\u001b[0;32m    700\u001b[0m start \u001b[38;5;241m=\u001b[39m preferred_clock()\n\u001b[0;32m    702\u001b[0m \u001b[38;5;66;03m# Send the request\u001b[39;00m\n\u001b[1;32m--> 703\u001b[0m r \u001b[38;5;241m=\u001b[39m \u001b[43madapter\u001b[49m\u001b[38;5;241;43m.\u001b[39;49m\u001b[43msend\u001b[49m\u001b[43m(\u001b[49m\u001b[43mrequest\u001b[49m\u001b[43m,\u001b[49m\u001b[43m \u001b[49m\u001b[38;5;241;43m*\u001b[39;49m\u001b[38;5;241;43m*\u001b[39;49m\u001b[43mkwargs\u001b[49m\u001b[43m)\u001b[49m\n\u001b[0;32m    705\u001b[0m \u001b[38;5;66;03m# Total elapsed time of the request (approximately)\u001b[39;00m\n\u001b[0;32m    706\u001b[0m elapsed \u001b[38;5;241m=\u001b[39m preferred_clock() \u001b[38;5;241m-\u001b[39m start\n",
      "File \u001b[1;32mc:\\Users\\Aviv9\\miniconda3\\envs\\LLMExcersie\\Lib\\site-packages\\requests\\adapters.py:667\u001b[0m, in \u001b[0;36mHTTPAdapter.send\u001b[1;34m(self, request, stream, timeout, verify, cert, proxies)\u001b[0m\n\u001b[0;32m    664\u001b[0m     timeout \u001b[38;5;241m=\u001b[39m TimeoutSauce(connect\u001b[38;5;241m=\u001b[39mtimeout, read\u001b[38;5;241m=\u001b[39mtimeout)\n\u001b[0;32m    666\u001b[0m \u001b[38;5;28;01mtry\u001b[39;00m:\n\u001b[1;32m--> 667\u001b[0m     resp \u001b[38;5;241m=\u001b[39m \u001b[43mconn\u001b[49m\u001b[38;5;241;43m.\u001b[39;49m\u001b[43murlopen\u001b[49m\u001b[43m(\u001b[49m\n\u001b[0;32m    668\u001b[0m \u001b[43m        \u001b[49m\u001b[43mmethod\u001b[49m\u001b[38;5;241;43m=\u001b[39;49m\u001b[43mrequest\u001b[49m\u001b[38;5;241;43m.\u001b[39;49m\u001b[43mmethod\u001b[49m\u001b[43m,\u001b[49m\n\u001b[0;32m    669\u001b[0m \u001b[43m        \u001b[49m\u001b[43murl\u001b[49m\u001b[38;5;241;43m=\u001b[39;49m\u001b[43murl\u001b[49m\u001b[43m,\u001b[49m\n\u001b[0;32m    670\u001b[0m \u001b[43m        \u001b[49m\u001b[43mbody\u001b[49m\u001b[38;5;241;43m=\u001b[39;49m\u001b[43mrequest\u001b[49m\u001b[38;5;241;43m.\u001b[39;49m\u001b[43mbody\u001b[49m\u001b[43m,\u001b[49m\n\u001b[0;32m    671\u001b[0m \u001b[43m        \u001b[49m\u001b[43mheaders\u001b[49m\u001b[38;5;241;43m=\u001b[39;49m\u001b[43mrequest\u001b[49m\u001b[38;5;241;43m.\u001b[39;49m\u001b[43mheaders\u001b[49m\u001b[43m,\u001b[49m\n\u001b[0;32m    672\u001b[0m \u001b[43m        \u001b[49m\u001b[43mredirect\u001b[49m\u001b[38;5;241;43m=\u001b[39;49m\u001b[38;5;28;43;01mFalse\u001b[39;49;00m\u001b[43m,\u001b[49m\n\u001b[0;32m    673\u001b[0m \u001b[43m        \u001b[49m\u001b[43massert_same_host\u001b[49m\u001b[38;5;241;43m=\u001b[39;49m\u001b[38;5;28;43;01mFalse\u001b[39;49;00m\u001b[43m,\u001b[49m\n\u001b[0;32m    674\u001b[0m \u001b[43m        \u001b[49m\u001b[43mpreload_content\u001b[49m\u001b[38;5;241;43m=\u001b[39;49m\u001b[38;5;28;43;01mFalse\u001b[39;49;00m\u001b[43m,\u001b[49m\n\u001b[0;32m    675\u001b[0m \u001b[43m        \u001b[49m\u001b[43mdecode_content\u001b[49m\u001b[38;5;241;43m=\u001b[39;49m\u001b[38;5;28;43;01mFalse\u001b[39;49;00m\u001b[43m,\u001b[49m\n\u001b[0;32m    676\u001b[0m \u001b[43m        \u001b[49m\u001b[43mretries\u001b[49m\u001b[38;5;241;43m=\u001b[39;49m\u001b[38;5;28;43mself\u001b[39;49m\u001b[38;5;241;43m.\u001b[39;49m\u001b[43mmax_retries\u001b[49m\u001b[43m,\u001b[49m\n\u001b[0;32m    677\u001b[0m \u001b[43m        \u001b[49m\u001b[43mtimeout\u001b[49m\u001b[38;5;241;43m=\u001b[39;49m\u001b[43mtimeout\u001b[49m\u001b[43m,\u001b[49m\n\u001b[0;32m    678\u001b[0m \u001b[43m        \u001b[49m\u001b[43mchunked\u001b[49m\u001b[38;5;241;43m=\u001b[39;49m\u001b[43mchunked\u001b[49m\u001b[43m,\u001b[49m\n\u001b[0;32m    679\u001b[0m \u001b[43m    \u001b[49m\u001b[43m)\u001b[49m\n\u001b[0;32m    681\u001b[0m \u001b[38;5;28;01mexcept\u001b[39;00m (ProtocolError, \u001b[38;5;167;01mOSError\u001b[39;00m) \u001b[38;5;28;01mas\u001b[39;00m err:\n\u001b[0;32m    682\u001b[0m     \u001b[38;5;28;01mraise\u001b[39;00m \u001b[38;5;167;01mConnectionError\u001b[39;00m(err, request\u001b[38;5;241m=\u001b[39mrequest)\n",
      "File \u001b[1;32mc:\\Users\\Aviv9\\miniconda3\\envs\\LLMExcersie\\Lib\\site-packages\\urllib3\\connectionpool.py:787\u001b[0m, in \u001b[0;36mHTTPConnectionPool.urlopen\u001b[1;34m(self, method, url, body, headers, retries, redirect, assert_same_host, timeout, pool_timeout, release_conn, chunked, body_pos, preload_content, decode_content, **response_kw)\u001b[0m\n\u001b[0;32m    784\u001b[0m response_conn \u001b[38;5;241m=\u001b[39m conn \u001b[38;5;28;01mif\u001b[39;00m \u001b[38;5;129;01mnot\u001b[39;00m release_conn \u001b[38;5;28;01melse\u001b[39;00m \u001b[38;5;28;01mNone\u001b[39;00m\n\u001b[0;32m    786\u001b[0m \u001b[38;5;66;03m# Make the request on the HTTPConnection object\u001b[39;00m\n\u001b[1;32m--> 787\u001b[0m response \u001b[38;5;241m=\u001b[39m \u001b[38;5;28;43mself\u001b[39;49m\u001b[38;5;241;43m.\u001b[39;49m\u001b[43m_make_request\u001b[49m\u001b[43m(\u001b[49m\n\u001b[0;32m    788\u001b[0m \u001b[43m    \u001b[49m\u001b[43mconn\u001b[49m\u001b[43m,\u001b[49m\n\u001b[0;32m    789\u001b[0m \u001b[43m    \u001b[49m\u001b[43mmethod\u001b[49m\u001b[43m,\u001b[49m\n\u001b[0;32m    790\u001b[0m \u001b[43m    \u001b[49m\u001b[43murl\u001b[49m\u001b[43m,\u001b[49m\n\u001b[0;32m    791\u001b[0m \u001b[43m    \u001b[49m\u001b[43mtimeout\u001b[49m\u001b[38;5;241;43m=\u001b[39;49m\u001b[43mtimeout_obj\u001b[49m\u001b[43m,\u001b[49m\n\u001b[0;32m    792\u001b[0m \u001b[43m    \u001b[49m\u001b[43mbody\u001b[49m\u001b[38;5;241;43m=\u001b[39;49m\u001b[43mbody\u001b[49m\u001b[43m,\u001b[49m\n\u001b[0;32m    793\u001b[0m \u001b[43m    \u001b[49m\u001b[43mheaders\u001b[49m\u001b[38;5;241;43m=\u001b[39;49m\u001b[43mheaders\u001b[49m\u001b[43m,\u001b[49m\n\u001b[0;32m    794\u001b[0m \u001b[43m    \u001b[49m\u001b[43mchunked\u001b[49m\u001b[38;5;241;43m=\u001b[39;49m\u001b[43mchunked\u001b[49m\u001b[43m,\u001b[49m\n\u001b[0;32m    795\u001b[0m \u001b[43m    \u001b[49m\u001b[43mretries\u001b[49m\u001b[38;5;241;43m=\u001b[39;49m\u001b[43mretries\u001b[49m\u001b[43m,\u001b[49m\n\u001b[0;32m    796\u001b[0m \u001b[43m    \u001b[49m\u001b[43mresponse_conn\u001b[49m\u001b[38;5;241;43m=\u001b[39;49m\u001b[43mresponse_conn\u001b[49m\u001b[43m,\u001b[49m\n\u001b[0;32m    797\u001b[0m \u001b[43m    \u001b[49m\u001b[43mpreload_content\u001b[49m\u001b[38;5;241;43m=\u001b[39;49m\u001b[43mpreload_content\u001b[49m\u001b[43m,\u001b[49m\n\u001b[0;32m    798\u001b[0m \u001b[43m    \u001b[49m\u001b[43mdecode_content\u001b[49m\u001b[38;5;241;43m=\u001b[39;49m\u001b[43mdecode_content\u001b[49m\u001b[43m,\u001b[49m\n\u001b[0;32m    799\u001b[0m \u001b[43m    \u001b[49m\u001b[38;5;241;43m*\u001b[39;49m\u001b[38;5;241;43m*\u001b[39;49m\u001b[43mresponse_kw\u001b[49m\u001b[43m,\u001b[49m\n\u001b[0;32m    800\u001b[0m \u001b[43m\u001b[49m\u001b[43m)\u001b[49m\n\u001b[0;32m    802\u001b[0m \u001b[38;5;66;03m# Everything went great!\u001b[39;00m\n\u001b[0;32m    803\u001b[0m clean_exit \u001b[38;5;241m=\u001b[39m \u001b[38;5;28;01mTrue\u001b[39;00m\n",
      "File \u001b[1;32mc:\\Users\\Aviv9\\miniconda3\\envs\\LLMExcersie\\Lib\\site-packages\\urllib3\\connectionpool.py:534\u001b[0m, in \u001b[0;36mHTTPConnectionPool._make_request\u001b[1;34m(self, conn, method, url, body, headers, retries, timeout, chunked, response_conn, preload_content, decode_content, enforce_content_length)\u001b[0m\n\u001b[0;32m    532\u001b[0m \u001b[38;5;66;03m# Receive the response from the server\u001b[39;00m\n\u001b[0;32m    533\u001b[0m \u001b[38;5;28;01mtry\u001b[39;00m:\n\u001b[1;32m--> 534\u001b[0m     response \u001b[38;5;241m=\u001b[39m \u001b[43mconn\u001b[49m\u001b[38;5;241;43m.\u001b[39;49m\u001b[43mgetresponse\u001b[49m\u001b[43m(\u001b[49m\u001b[43m)\u001b[49m\n\u001b[0;32m    535\u001b[0m \u001b[38;5;28;01mexcept\u001b[39;00m (BaseSSLError, \u001b[38;5;167;01mOSError\u001b[39;00m) \u001b[38;5;28;01mas\u001b[39;00m e:\n\u001b[0;32m    536\u001b[0m     \u001b[38;5;28mself\u001b[39m\u001b[38;5;241m.\u001b[39m_raise_timeout(err\u001b[38;5;241m=\u001b[39me, url\u001b[38;5;241m=\u001b[39murl, timeout_value\u001b[38;5;241m=\u001b[39mread_timeout)\n",
      "File \u001b[1;32mc:\\Users\\Aviv9\\miniconda3\\envs\\LLMExcersie\\Lib\\site-packages\\urllib3\\connection.py:516\u001b[0m, in \u001b[0;36mHTTPConnection.getresponse\u001b[1;34m(self)\u001b[0m\n\u001b[0;32m    513\u001b[0m _shutdown \u001b[38;5;241m=\u001b[39m \u001b[38;5;28mgetattr\u001b[39m(\u001b[38;5;28mself\u001b[39m\u001b[38;5;241m.\u001b[39msock, \u001b[38;5;124m\"\u001b[39m\u001b[38;5;124mshutdown\u001b[39m\u001b[38;5;124m\"\u001b[39m, \u001b[38;5;28;01mNone\u001b[39;00m)\n\u001b[0;32m    515\u001b[0m \u001b[38;5;66;03m# Get the response from http.client.HTTPConnection\u001b[39;00m\n\u001b[1;32m--> 516\u001b[0m httplib_response \u001b[38;5;241m=\u001b[39m \u001b[38;5;28;43msuper\u001b[39;49m\u001b[43m(\u001b[49m\u001b[43m)\u001b[49m\u001b[38;5;241;43m.\u001b[39;49m\u001b[43mgetresponse\u001b[49m\u001b[43m(\u001b[49m\u001b[43m)\u001b[49m\n\u001b[0;32m    518\u001b[0m \u001b[38;5;28;01mtry\u001b[39;00m:\n\u001b[0;32m    519\u001b[0m     assert_header_parsing(httplib_response\u001b[38;5;241m.\u001b[39mmsg)\n",
      "File \u001b[1;32mc:\\Users\\Aviv9\\miniconda3\\envs\\LLMExcersie\\Lib\\http\\client.py:1428\u001b[0m, in \u001b[0;36mHTTPConnection.getresponse\u001b[1;34m(self)\u001b[0m\n\u001b[0;32m   1426\u001b[0m \u001b[38;5;28;01mtry\u001b[39;00m:\n\u001b[0;32m   1427\u001b[0m     \u001b[38;5;28;01mtry\u001b[39;00m:\n\u001b[1;32m-> 1428\u001b[0m         \u001b[43mresponse\u001b[49m\u001b[38;5;241;43m.\u001b[39;49m\u001b[43mbegin\u001b[49m\u001b[43m(\u001b[49m\u001b[43m)\u001b[49m\n\u001b[0;32m   1429\u001b[0m     \u001b[38;5;28;01mexcept\u001b[39;00m \u001b[38;5;167;01mConnectionError\u001b[39;00m:\n\u001b[0;32m   1430\u001b[0m         \u001b[38;5;28mself\u001b[39m\u001b[38;5;241m.\u001b[39mclose()\n",
      "File \u001b[1;32mc:\\Users\\Aviv9\\miniconda3\\envs\\LLMExcersie\\Lib\\http\\client.py:331\u001b[0m, in \u001b[0;36mHTTPResponse.begin\u001b[1;34m(self)\u001b[0m\n\u001b[0;32m    329\u001b[0m \u001b[38;5;66;03m# read until we get a non-100 response\u001b[39;00m\n\u001b[0;32m    330\u001b[0m \u001b[38;5;28;01mwhile\u001b[39;00m \u001b[38;5;28;01mTrue\u001b[39;00m:\n\u001b[1;32m--> 331\u001b[0m     version, status, reason \u001b[38;5;241m=\u001b[39m \u001b[38;5;28;43mself\u001b[39;49m\u001b[38;5;241;43m.\u001b[39;49m\u001b[43m_read_status\u001b[49m\u001b[43m(\u001b[49m\u001b[43m)\u001b[49m\n\u001b[0;32m    332\u001b[0m     \u001b[38;5;28;01mif\u001b[39;00m status \u001b[38;5;241m!=\u001b[39m CONTINUE:\n\u001b[0;32m    333\u001b[0m         \u001b[38;5;28;01mbreak\u001b[39;00m\n",
      "File \u001b[1;32mc:\\Users\\Aviv9\\miniconda3\\envs\\LLMExcersie\\Lib\\http\\client.py:292\u001b[0m, in \u001b[0;36mHTTPResponse._read_status\u001b[1;34m(self)\u001b[0m\n\u001b[0;32m    291\u001b[0m \u001b[38;5;28;01mdef\u001b[39;00m\u001b[38;5;250m \u001b[39m\u001b[38;5;21m_read_status\u001b[39m(\u001b[38;5;28mself\u001b[39m):\n\u001b[1;32m--> 292\u001b[0m     line \u001b[38;5;241m=\u001b[39m \u001b[38;5;28mstr\u001b[39m(\u001b[38;5;28;43mself\u001b[39;49m\u001b[38;5;241;43m.\u001b[39;49m\u001b[43mfp\u001b[49m\u001b[38;5;241;43m.\u001b[39;49m\u001b[43mreadline\u001b[49m\u001b[43m(\u001b[49m\u001b[43m_MAXLINE\u001b[49m\u001b[43m \u001b[49m\u001b[38;5;241;43m+\u001b[39;49m\u001b[43m \u001b[49m\u001b[38;5;241;43m1\u001b[39;49m\u001b[43m)\u001b[49m, \u001b[38;5;124m\"\u001b[39m\u001b[38;5;124miso-8859-1\u001b[39m\u001b[38;5;124m\"\u001b[39m)\n\u001b[0;32m    293\u001b[0m     \u001b[38;5;28;01mif\u001b[39;00m \u001b[38;5;28mlen\u001b[39m(line) \u001b[38;5;241m>\u001b[39m _MAXLINE:\n\u001b[0;32m    294\u001b[0m         \u001b[38;5;28;01mraise\u001b[39;00m LineTooLong(\u001b[38;5;124m\"\u001b[39m\u001b[38;5;124mstatus line\u001b[39m\u001b[38;5;124m\"\u001b[39m)\n",
      "File \u001b[1;32mc:\\Users\\Aviv9\\miniconda3\\envs\\LLMExcersie\\Lib\\socket.py:720\u001b[0m, in \u001b[0;36mSocketIO.readinto\u001b[1;34m(self, b)\u001b[0m\n\u001b[0;32m    718\u001b[0m \u001b[38;5;28;01mwhile\u001b[39;00m \u001b[38;5;28;01mTrue\u001b[39;00m:\n\u001b[0;32m    719\u001b[0m     \u001b[38;5;28;01mtry\u001b[39;00m:\n\u001b[1;32m--> 720\u001b[0m         \u001b[38;5;28;01mreturn\u001b[39;00m \u001b[38;5;28;43mself\u001b[39;49m\u001b[38;5;241;43m.\u001b[39;49m\u001b[43m_sock\u001b[49m\u001b[38;5;241;43m.\u001b[39;49m\u001b[43mrecv_into\u001b[49m\u001b[43m(\u001b[49m\u001b[43mb\u001b[49m\u001b[43m)\u001b[49m\n\u001b[0;32m    721\u001b[0m     \u001b[38;5;28;01mexcept\u001b[39;00m timeout:\n\u001b[0;32m    722\u001b[0m         \u001b[38;5;28mself\u001b[39m\u001b[38;5;241m.\u001b[39m_timeout_occurred \u001b[38;5;241m=\u001b[39m \u001b[38;5;28;01mTrue\u001b[39;00m\n",
      "File \u001b[1;32mc:\\Users\\Aviv9\\miniconda3\\envs\\LLMExcersie\\Lib\\ssl.py:1251\u001b[0m, in \u001b[0;36mSSLSocket.recv_into\u001b[1;34m(self, buffer, nbytes, flags)\u001b[0m\n\u001b[0;32m   1247\u001b[0m     \u001b[38;5;28;01mif\u001b[39;00m flags \u001b[38;5;241m!=\u001b[39m \u001b[38;5;241m0\u001b[39m:\n\u001b[0;32m   1248\u001b[0m         \u001b[38;5;28;01mraise\u001b[39;00m \u001b[38;5;167;01mValueError\u001b[39;00m(\n\u001b[0;32m   1249\u001b[0m           \u001b[38;5;124m\"\u001b[39m\u001b[38;5;124mnon-zero flags not allowed in calls to recv_into() on \u001b[39m\u001b[38;5;132;01m%s\u001b[39;00m\u001b[38;5;124m\"\u001b[39m \u001b[38;5;241m%\u001b[39m\n\u001b[0;32m   1250\u001b[0m           \u001b[38;5;28mself\u001b[39m\u001b[38;5;241m.\u001b[39m\u001b[38;5;18m__class__\u001b[39m)\n\u001b[1;32m-> 1251\u001b[0m     \u001b[38;5;28;01mreturn\u001b[39;00m \u001b[38;5;28;43mself\u001b[39;49m\u001b[38;5;241;43m.\u001b[39;49m\u001b[43mread\u001b[49m\u001b[43m(\u001b[49m\u001b[43mnbytes\u001b[49m\u001b[43m,\u001b[49m\u001b[43m \u001b[49m\u001b[43mbuffer\u001b[49m\u001b[43m)\u001b[49m\n\u001b[0;32m   1252\u001b[0m \u001b[38;5;28;01melse\u001b[39;00m:\n\u001b[0;32m   1253\u001b[0m     \u001b[38;5;28;01mreturn\u001b[39;00m \u001b[38;5;28msuper\u001b[39m()\u001b[38;5;241m.\u001b[39mrecv_into(buffer, nbytes, flags)\n",
      "File \u001b[1;32mc:\\Users\\Aviv9\\miniconda3\\envs\\LLMExcersie\\Lib\\ssl.py:1103\u001b[0m, in \u001b[0;36mSSLSocket.read\u001b[1;34m(self, len, buffer)\u001b[0m\n\u001b[0;32m   1101\u001b[0m \u001b[38;5;28;01mtry\u001b[39;00m:\n\u001b[0;32m   1102\u001b[0m     \u001b[38;5;28;01mif\u001b[39;00m buffer \u001b[38;5;129;01mis\u001b[39;00m \u001b[38;5;129;01mnot\u001b[39;00m \u001b[38;5;28;01mNone\u001b[39;00m:\n\u001b[1;32m-> 1103\u001b[0m         \u001b[38;5;28;01mreturn\u001b[39;00m \u001b[38;5;28;43mself\u001b[39;49m\u001b[38;5;241;43m.\u001b[39;49m\u001b[43m_sslobj\u001b[49m\u001b[38;5;241;43m.\u001b[39;49m\u001b[43mread\u001b[49m\u001b[43m(\u001b[49m\u001b[38;5;28;43mlen\u001b[39;49m\u001b[43m,\u001b[49m\u001b[43m \u001b[49m\u001b[43mbuffer\u001b[49m\u001b[43m)\u001b[49m\n\u001b[0;32m   1104\u001b[0m     \u001b[38;5;28;01melse\u001b[39;00m:\n\u001b[0;32m   1105\u001b[0m         \u001b[38;5;28;01mreturn\u001b[39;00m \u001b[38;5;28mself\u001b[39m\u001b[38;5;241m.\u001b[39m_sslobj\u001b[38;5;241m.\u001b[39mread(\u001b[38;5;28mlen\u001b[39m)\n",
      "\u001b[1;31mKeyboardInterrupt\u001b[0m: "
     ]
    }
   ],
   "source": [
    "import praw\n",
    "\n",
    "# Configure the Reddit instance\n",
    "reddit = praw.Reddit(\n",
    "    client_id=os.environ['REDDIT_API_CLIENT_ID'],\n",
    "    client_secret=os.environ['REDDIT_API_CLIENT_SECRET'],\n",
    "    user_agent=\"YOUR_USER_AGENT\"\n",
    ")\n",
    "\n",
    "# Choose a subreddit\n",
    "subreddit_name = \"learnpython\"  # Replace with the subreddit you're interested in\n",
    "subreddit = reddit.subreddit(subreddit_name)\n",
    "\n",
    "# Fetch the top 5 posts\n",
    "print(f\"Fetching top 5 posts from r/{subreddit_name}\")\n",
    "for post in subreddit.hot(limit=5):  # Use .top(), .new(), etc., for different sorting\n",
    "    print(f\"\\nPost Title: {post.title}\")\n",
    "    print(f\"Post ID: {post.id}\")\n",
    "    print(f\"Score: {post.score}\")\n",
    "    print(f\"URL: {post.url}\")\n",
    "\n",
    "    # Fetch comments for the post\n",
    "    print(\"\\nComments:\")\n",
    "    post.comments.replace_more(limit=0)  # Remove \"load more comments\"\n",
    "    for comment in post.comments.list()[:5]:  # Limit to the first 5 comments\n",
    "        print(f\"- {comment.body[:100]}...\")  # Print first 100 characters of each comment\n",
    "        # print(comment.)"
   ]
  },
  {
   "cell_type": "code",
   "execution_count": 33,
   "metadata": {},
   "outputs": [
    {
     "data": {
      "text/plain": [
       "'AutoModerator'"
      ]
     },
     "execution_count": 33,
     "metadata": {},
     "output_type": "execute_result"
    }
   ],
   "source": [
    "posts = list(subreddit.hot(limit=2))\n",
    "\n",
    "post_comments = posts[0].comments\n",
    "posts[0].author.name"
   ]
  },
  {
   "cell_type": "code",
   "execution_count": 22,
   "metadata": {},
   "outputs": [
    {
     "data": {
      "text/plain": [
       "1737331266.0"
      ]
     },
     "execution_count": 22,
     "metadata": {},
     "output_type": "execute_result"
    }
   ],
   "source": [
    "posts[0].created_utc"
   ]
  },
  {
   "cell_type": "code",
   "execution_count": 13,
   "metadata": {},
   "outputs": [],
   "source": [
    "from pydantic import BaseModel\n",
    "from datetime import datetime\n",
    "\n",
    "class RedditComment(BaseModel):\n",
    "    id:str\n",
    "    text: str\n",
    "    score: int\n",
    "    author_name: str \n",
    "    creation_time_utc: str\n",
    "    \n",
    "    \n",
    "class RedditPost(BaseModel):\n",
    "    title: str\n",
    "    text: str\n",
    "    score: int\n",
    "    creation_time_utc : str\n",
    "    id: str\n",
    "    url: str\n",
    "    author_name: str\n",
    "    comments: list[RedditComment]\n",
    "   "
   ]
  },
  {
   "cell_type": "code",
   "execution_count": null,
   "metadata": {},
   "outputs": [
    {
     "name": "stdout",
     "output_type": "stream",
     "text": [
      "Fetching top 5 posts from r/msp\n",
      "\n",
      "Post Title: Weekly Promo and Webinar Thread\n",
      "Post ID: 1i5inna\n",
      "Score: 6\n",
      "URL: https://www.reddit.com/r/msp/comments/1i5inna/weekly_promo_and_webinar_thread/\n",
      "\n",
      "Comments:\n"
     ]
    },
    {
     "ename": "AttributeError",
     "evalue": "'CommentForest' object has no attribute 'hot'",
     "output_type": "error",
     "traceback": [
      "\u001b[1;31m---------------------------------------------------------------------------\u001b[0m",
      "\u001b[1;31mAttributeError\u001b[0m                            Traceback (most recent call last)",
      "Cell \u001b[1;32mIn[25], line 31\u001b[0m\n\u001b[0;32m     29\u001b[0m \u001b[38;5;28mprint\u001b[39m(\u001b[38;5;124m\"\u001b[39m\u001b[38;5;130;01m\\n\u001b[39;00m\u001b[38;5;124mComments:\u001b[39m\u001b[38;5;124m\"\u001b[39m)\n\u001b[0;32m     30\u001b[0m post\u001b[38;5;241m.\u001b[39mcomments\u001b[38;5;241m.\u001b[39mreplace_more(limit\u001b[38;5;241m=\u001b[39m\u001b[38;5;241m0\u001b[39m)  \u001b[38;5;66;03m# Remove \"load more comments\"\u001b[39;00m\n\u001b[1;32m---> 31\u001b[0m \u001b[38;5;28;01mfor\u001b[39;00m comment \u001b[38;5;129;01min\u001b[39;00m \u001b[43mpost\u001b[49m\u001b[38;5;241;43m.\u001b[39;49m\u001b[43mcomments\u001b[49m\u001b[38;5;241;43m.\u001b[39;49m\u001b[43mhot\u001b[49m(limit\u001b[38;5;241m=\u001b[39m\u001b[38;5;241m5\u001b[39m):  \u001b[38;5;66;03m# Limit to the first 5 comments\u001b[39;00m\n\u001b[0;32m     32\u001b[0m     \u001b[38;5;28mprint\u001b[39m(\u001b[38;5;124mf\u001b[39m\u001b[38;5;124m\"\u001b[39m\u001b[38;5;124m- \u001b[39m\u001b[38;5;132;01m{\u001b[39;00mcomment\u001b[38;5;241m.\u001b[39mbody[:\u001b[38;5;241m100\u001b[39m]\u001b[38;5;132;01m}\u001b[39;00m\u001b[38;5;124m...\u001b[39m\u001b[38;5;124m\"\u001b[39m)  \u001b[38;5;66;03m# Print first 100 characters of each comment\u001b[39;00m\n\u001b[0;32m     33\u001b[0m     comment_creation_time \u001b[38;5;241m=\u001b[39m datetime\u001b[38;5;241m.\u001b[39mfromtimestamp(comment\u001b[38;5;241m.\u001b[39mcreated_utc, tz\u001b[38;5;241m=\u001b[39mtimezone\u001b[38;5;241m.\u001b[39mutc)\u001b[38;5;241m.\u001b[39mstrftime(\u001b[38;5;124m'\u001b[39m\u001b[38;5;124m%\u001b[39m\u001b[38;5;124mY-\u001b[39m\u001b[38;5;124m%\u001b[39m\u001b[38;5;124mm-\u001b[39m\u001b[38;5;132;01m%d\u001b[39;00m\u001b[38;5;124m \u001b[39m\u001b[38;5;124m%\u001b[39m\u001b[38;5;124mH:\u001b[39m\u001b[38;5;124m%\u001b[39m\u001b[38;5;124mM:\u001b[39m\u001b[38;5;124m%\u001b[39m\u001b[38;5;124mS\u001b[39m\u001b[38;5;124m'\u001b[39m)\n",
      "\u001b[1;31mAttributeError\u001b[0m: 'CommentForest' object has no attribute 'hot'"
     ]
    }
   ],
   "source": [
    "from datetime import timezone\n",
    "import praw\n",
    "import os\n",
    "\n",
    "# Configure the Reddit instance\n",
    "reddit = praw.Reddit(\n",
    "    client_id=os.environ['REDDIT_API_CLIENT_ID'],\n",
    "    client_secret=os.environ['REDDIT_API_CLIENT_SECRET'],\n",
    "    user_agent=\"YOUR_USER_AGENT\"\n",
    ")\n",
    "\n",
    "# Choose a subreddit\n",
    "subreddit_name = \"msp\"  # Replace with the subreddit you're interested in\n",
    "subreddit = reddit.subreddit(subreddit_name)\n",
    "\n",
    "# Fetch the top 5 posts\n",
    "posts = []\n",
    "print(f\"Fetching top 5 posts from r/{subreddit_name}\")\n",
    "for post in subreddit.hot(limit=5):  # Use .top(), .new(), etc., for different sorting\n",
    "    creation_time_utc = datetime.fromtimestamp(post.created_utc, tz=timezone.utc).strftime('%Y-%m-%d %H:%M:%S')\n",
    "\n",
    "    print(f\"\\nPost Title: {post.title}\")\n",
    "    print(f\"Post ID: {post.id}\")\n",
    "    print(f\"Score: {post.score}\")\n",
    "    print(f\"URL: {post.url}\")\n",
    "\n",
    "    # Fetch comments for the post\n",
    "    comments = []\n",
    "    print(\"\\nComments:\")\n",
    "    post.comments.replace_more(limit=0)\n",
    "    for comment in post.comments.list():\n",
    "        print(f\"- {comment.body[:100]}...\")\n",
    "        comment_creation_time = datetime.fromtimestamp(comment.created_utc, tz=timezone.utc).strftime('%Y-%m-%d %H:%M:%S')\n",
    "        reddit_comment = RedditComment(\n",
    "            id=comment.id,\n",
    "            text=comment.body,\n",
    "            score=comment.score,\n",
    "            author_name=comment.author.name,\n",
    "            creation_time_utc=comment_creation_time\n",
    "        )\n",
    "        comments.append(reddit_comment)\n",
    "        # print(comment.)\n",
    "    \n",
    "    \n",
    "    \n",
    "    reddit_post = RedditPost(\n",
    "        title=post.title,\n",
    "        id=post.id,\n",
    "        score=post.score,\n",
    "        url=post.url,\n",
    "        text=post.selftext,\n",
    "        creation_time_utc=creation_time_utc,\n",
    "        author_name=post.author.name,\n",
    "        comments=comments\n",
    "    )\n",
    "    \n",
    "    posts.append(reddit_post)"
   ]
  },
  {
   "cell_type": "code",
   "execution_count": 15,
   "metadata": {},
   "outputs": [
    {
     "data": {
      "text/plain": [
       "[{'title': 'Weekly Promo and Webinar Thread',\n",
       "  'text': \"Vendors, please put self-promoting posts or webinar information in this thread. Threads that are posted elsewhere will be removed.\\n\\n**Please do not use URL shorteners. Reddit doesn't like these and your posts will be automatically removed by the auto moderator. Only include direct posts to your site.**\\n\\nIt's fine to post if you did last week - if the group doesn't want to see it again, your comment will just get downvoted :)\",\n",
       "  'score': 6,\n",
       "  'creation_time_utc': '2025-01-20 05:01:36',\n",
       "  'id': '1i5inna',\n",
       "  'url': 'https://www.reddit.com/r/msp/comments/1i5inna/weekly_promo_and_webinar_thread/',\n",
       "  'author_name': 'AutoModerator',\n",
       "  'comments': [{'id': 'm84ggvd',\n",
       "    'text': '# [MSP Partner Program. Boost Your Sales And Profits.](https://easydmarc.com/solutions/dmarc-managed-service-providers?utm_source=social&utm_medium=reddit&utm_campaign=MSP)\\n\\nDo you know that?\\n\\n* MSPs emphasizing DMARC compliance as a key component of their services have reported a 25% growth in their client base.\\n* MSPs incorporating DMARC into their service offerings have reported a 15% growth in customer retention rates.\\n\\nIf you’re an MSP aiming to boost your revenue and customer loyalty, EasyDMARC is the perfect solution. Our email authentication platform simplifies domain management, offering features like organization control, domain grouping, and access management.\\n\\nMoreover, we offer a complete sales and marketing enablement program to enhance your DMARC sales, all on a scalable platform with a flexible pay-as-you-go pricing model. Choose EasyDMARC to protect your customers from phishing and supercharge their email deliverability!\\n\\n# Benefits\\n\\n* Increased revenue without new client acquisition spending\\n* Explore new profit channels by using DMARC for lead generation\\n* Reduce IT support costs due to small overhead and manual labor elimination\\n* Ensure substantial business growth due to the fact that the platform scales with you\\n* Leverage our expertise during one-on-one training with a dedicated DMARC professional\\n* Improve customer retention and satisfaction due to timely reports and a vast knowledge base\\n* Get a competitive advantage by automating daily tasks with our cloud-native DMARC platform\\n\\nContact our dedicated DMARC MSP professional today to learn more about our services and get a quote based on your needs.\\n\\n# [Book a Free Consultation](https://easydmarc.com/solutions/dmarc-managed-service-providers?utm_source=social&utm_medium=reddit&utm_campaign=MSP#contact-us)',\n",
       "    'score': 4,\n",
       "    'author_name': 'easy_dmarc',\n",
       "    'creation_time_utc': '2025-01-20 06:43:56'},\n",
       "   {'id': 'm84rhlr',\n",
       "    'text': '# 💭Not growing as fast as you’d like? It’s time to fix your lead gen problem for good…\\n\\nAnd yes, many times, it’s not a sales problem. It’s a lead generation problem.\\n\\nHere’s the fact about that.\\n\\n❌ Without a\\xa0tried, replicable lead generation machine, your mid-market MSP will keep hemorrhaging cash in the name of advertising/marketing.\\n\\nYou don’t want that.\\n\\nWe’re at a point in the world economy where you can’t afford to take chances.\\n\\nYou can’t afford to be unsure of what marketing channels to focus on.\\n\\nA little bit of Facebook Messenger and a little bit of cold calling isn’t going to get you leads consistently and reliably at this point (it never really has).\\n\\n➡️ You need a lead generation system that works for MSPs looking to attract 50 - 250 seat leads ONLINE. One that you can rely on to get you out of the lead drought you’re currently facing.\\n\\nBecause every business is trimming expenses, many are taking IT management in-house…\\n\\nIf (for any reason) a client needs to “pause” their contract, you need to know that you’re not waiting on the next referral to make up for that.\\n\\nWhat’s more, you’ve heard it before. A recession isn’t the time to back down. It’s the time to take advantage of the quietness in the market, and seize a larger market share than you’ve ever had.\\n\\nNow, I’ll be the first to tell you that at MSP Launchpad, we’re not magicians…🚫\\n\\n✅ But we’ve been at this long enough to know exactly what works to attract the kinds of businesses you want (and need to attract) to ramp up your MRR and grow in a recession.\\n\\n✅ We’ve already helped dozens of MSPs across the US, Canada, Australia, and Europe generate 3 - 10 leads per month (see some testimonials\\xa0[here](https://www.msplaunchpad.com/testimonials?utm_source=reddit&utm_medium=social&utm_term=weekly_post&utm_content=testimonial&utm_campaign=msp_website_weekly_thread&utm_source_platform=&utm_creative_format=reddit_thread&utm_marketing_tactic=reddit_testimonials)).\\n\\nNow it’s your turn. Because not being a marketing expert is no reason why you should be stuck with a dried-up lead flow.\\n\\n💥We have an all-in-one, proven solution for MSPs in the 6 - 8 figure range. Click here to check it out NOW👉[MSP-GAP](https://www.msplaunchpad.com/msp-growth-accelerator-program?utm_source=reddit&utm_medium=social&utm_term=weekly_post&utm_content=reddit_organic&utm_campaign=msp_website_weekly_thread&utm_source_platform=&utm_creative_format=reddit_thread&utm_marketing_tactic=reddit_weekly_promo).\\n\\nWe’re rolling out this solution on a first-come, first-served basis, with a hard cap on the number of MSPs we can accept per city (more details\\xa0[here](https://www.msplaunchpad.com/testimonials?utm_source=reddit&utm_medium=social&utm_term=weekly_post&utm_content=testimonial&utm_campaign=msp_website_weekly_thread&utm_source_platform=&utm_creative_format=reddit_thread&utm_marketing_tactic=reddit_testimonials)📌).\\n\\nThe ball is in your court.\\n\\nYou probably wish you could wave a wand and get your lead-gen issue resolved, right? Well, clicking the link is the closest you’ll ever get to that.\\n\\nFocus on your clients; let’s get you leads.\\n\\n![gif](emote|free_emotes_pack|upvote)\\xa0[Click here](https://www.msplaunchpad.com/msp-growth-accelerator-program?utm_source=reddit&utm_medium=social&utm_term=weekly_post&utm_content=reddit_organic&utm_campaign=msp_website_weekly_thread&utm_source_platform=&utm_creative_format=reddit_thread&utm_marketing_tactic=reddit_weekly_promo)\\xa0to see just how we do it (and case studies of MSPs we’ve helped).\\n\\nSee you on the\\xa0other side.',\n",
       "    'score': 4,\n",
       "    'author_name': 'ThanhMSP',\n",
       "    'creation_time_utc': '2025-01-20 08:31:08'},\n",
       "   {'id': 'm84616r',\n",
       "    'text': '# [The AI Service Coordinator for your MSP.](https://www.giantrocketship.com/?utm_source%3Dreddit.com%2Fr%2Fautotask)\\nOur value proposition at [Giant Rocketship](https://www.giantrocketship.com/?utm_source=reddit.com/r/autotask) is easy: *We increase the profitability of your MSP helpdesk*.\\n\\nWe do that by:\\n\\n✅ **Reducing labor cost per ticket**\\n\\n✅ **Reducing administrative grind**\\n\\n✅ **Reducing ticket time-to-close**\\n\\n**[Rocketship](https://www.giantrocketship.com/?utm_source%3Dreddit.com%2Fr%2Fautotask) modernizes the ticket lifecycle in Autotask**, seamlessly integrating intelligent assignment, optimized scheduling, on-demand escalations, and SLA-driven work queuing and AI-driven predictions. \\n\\nOur software works best with MSPs that have 5 or more techs -- that\\'s when \"self-dispatching\" costs more than it saves. At 25-30 techs, Giant Rocketship enables a single dispatcher to scale to 50 techs without missing a beat.\\n\\nIt\\'s not Autotask or Rocketship, it\\'s ***Autotask+Rocketship*** for high-performing MSP helpdesks. Join the growing ranks of MSPs that deploy Autotask+Rocketship as the foundation of their support stack.\\n\\nWe provide a 30-day free trial.\\n\\n[Schedule Online Demo](https://www.giantrocketship.com/schedule-demo/?utm_source=reddit.com/r/autotask)\\n\\nConnectWise Manage support is coming in late Q4!\\n\\u200b',\n",
       "    'score': 2,\n",
       "    'author_name': 'grsftw',\n",
       "    'creation_time_utc': '2025-01-20 05:16:29'},\n",
       "   {'id': 'm85gz12',\n",
       "    'text': \"Is this you?\\n\\n* Need to manage hundreds or thousands of TOTP 2FA tokens?\\n* Want to set access levels per TOTP 2FA token, and not per group, vault, etc?\\n* Want more insights into 2FA token use, e.g. with a detailed audit log?\\n* Don't want to store \\\\_everything\\\\_ in IT Glue/Hudu/your password manager?\\n\\nNow you can!\\n\\n[👉 **Daito is 2FA as a service, a web-based TOTP 2FA authenticator for MSPs, SMBs and internal IT teams.**](https://www.daito.io/?utm_campaign=msp-promo-2025-01-20)\\n\\nSecurely share access, no phone needed! 2FA tokens only, not a password manager!\\n\\nPopular features:\\n\\n* Fully web-based, use from any browser, no app needed.\\n* See which user used what 2FA token when in the searchable audit log\\n* Limit to read-only access possible: You decide if users get read-only access to 2FA tokens, or if they can access the 2FA secret key as well (great for limiting access of freelancers & agencies)\\n* Not a password manager, Daito is only for 2FA authentication\\n* Easy imports: easily add accounts by copy-pasting 2FA secret keys, scanning or uploading QR codes\\n* 5-second-migration from Google Authenticator (simply scan the migration code for migration)\\n* Export and backup all your 2FA seeds as CSV\\n* Easy management of groups of users and accounts\\n* SAML SSO (and not only for enterprise tiers!)\\n\\n[👉 **Visit now and start a free 14-day trial and test with your entire team!**](https://www.daito.io/?utm_campaign=msp-promo-2025-01-20)\\n\\nShared 2FA, simplified!\",\n",
       "    'score': 2,\n",
       "    'author_name': 'janfromdaito',\n",
       "    'creation_time_utc': '2025-01-20 12:43:00'},\n",
       "   {'id': 'm8fafai',\n",
       "    'text': '# [Ditch VPNs with Timus SASE](https://www.timusnetworks.com/?utm_campaign=Social%20Platform%20Campaigns&utm_source=reddit&utm_medium=social)!\\n\\n✅ Secure, Always-On Access to Resources. Anytime, Anywhere, on Any Device  \\n🚀Zero Trust Network Access. Adaptive Cloud Firewall. Secure Web Gateway. In One.  \\n📣Deploy in 30 minutes or less  \\n  \\n[**The**\\xa0**~~Future~~**\\xa0**\"Now\" of Secure Remote Access**](https://www.timusnetworks.com/request-a-demo/?utm_campaign=Social%20Platform%20Campaigns&utm_source=reddit&utm_medium=social)  \\n🔐\\xa0Stay Secure and Compliant  \\n✨\\xa0[MSP and MSSP Partner](https://www.timusnetworks.com/partners/msp-partner-solutions/)\\xa0Focused  \\n🔥\\xa0Increase your MRR and Drive Business Growth  \\n  \\n[**How does Timus SASE help MSPs and MSSPs?**](https://www.timusnetworks.com/request-a-demo/?utm_campaign=Social%20Platform%20Campaigns&utm_source=reddit&utm_medium=social)\\n\\n* Recurring Revenue Growth\\n* Reduced Support Tickets\\n* Operational Efficienties\\n* Centralized Management\\n* Compliance\\n\\n**➡️** [**Book a demo**](https://www.timusnetworks.com/request-a-demo/?utm_campaign=Social%20Platform%20Campaigns&utm_source=reddit&utm_medium=social)\\xa0**- TRY TIMUS SASE NOW!!!**\\n\\n(Also, check out our [***latest case study***](https://www.timusnetworks.com/resources/case-studies/transforming-hybrid-it-security-with-timus-sase?utm_campaign=Social%20Platform%20Campaigns&utm_source=reddit&utm_medium=social)!)',\n",
       "    'score': 2,\n",
       "    'author_name': 'Powerful-Item-3835',\n",
       "    'creation_time_utc': '2025-01-21 21:43:12'}]},\n",
       " {'title': 'Is Ubiquiti too good to be true?',\n",
       "  'text': \"I'm just starting getting my stack together and trying to figure out which network equipment to use. I did my CCNA 20 years ago but have been dorment on it since then was in a corporate job. \\n\\nMy target audience right now is just small businesses since that's most of the companies in my area. \\n\\nUbiquiti seems to have everything and no subscription fees for security or doorbells??  I'm I just used to the CISCO fun? \\n\\nThe only down side seems small distribution in Canada.\",\n",
       "  'score': 15,\n",
       "  'creation_time_utc': '2025-01-25 14:23:34',\n",
       "  'id': '1i9nz1r',\n",
       "  'url': 'https://www.reddit.com/r/msp/comments/1i9nz1r/is_ubiquiti_too_good_to_be_true/',\n",
       "  'author_name': 'DarkChipMonk',\n",
       "  'comments': [{'id': 'm93e0rl',\n",
       "    'text': 'I rate Ubiquiti, support isn’t always the best but good community around it. Some bells and whistles seem half-baked but good all rounder. Not sure I’d want to use it in enterprise environments though. Compared to Meraki, so cheap as there is no licensing.\\xa0',\n",
       "    'score': 30,\n",
       "    'author_name': 'ak47uk',\n",
       "    'creation_time_utc': '2025-01-25 14:28:15'},\n",
       "   {'id': 'm93mgb1',\n",
       "    'text': \"I spent 10+ years in enterprise networking, most as a VAR, but a few years working at major OEMs. Back then Ubiquiti was like a running joke for anything. Today though, not at all.\\n\\nIf you are supporting SMB and for the cost, there is not a better all around full network stack solution. With recent updates to their firewalls that include low cost security subscription addons, they are all-around more capable than anything else within SMB, at this point it's not really close. \\n\\nSince leaving the enterprise networking world, I have deployed a 150+ Ubiquiti APs, gateways, switches, cameras, at various side projects with maybe 2 failures total. It only takes a few minutes to restore an entire gateway/network from backup and the gear is so inexpensive, instead of paying for maintenance, you can just keep a few spares handy if concerned. \\n\\nPeople will say they have had security issues, but that's just not true, especially compared to FortiCVE.\",\n",
       "    'score': 31,\n",
       "    'author_name': 'dfwtim',\n",
       "    'creation_time_utc': '2025-01-25 15:16:03'},\n",
       "   {'id': 'm93n473',\n",
       "    'text': 'They are really good for the price.\\xa0 A lot of the pain points that people like to point out have been corrected over the last several years.\\xa0 They are everybit SMB ready and even smaller Enterprise ready as the big names, especially at the switching and WiFi level.',\n",
       "    'score': 12,\n",
       "    'author_name': 'NCC1701-Enterprise',\n",
       "    'creation_time_utc': '2025-01-25 15:19:36'},\n",
       "   {'id': 'm93eqkt',\n",
       "    'text': 'You will find a number of Ubiquiti lovers and haters. It’s low cost, and generally fine networking gear. You lose some things with low cost: support and product quality mainly. \\n\\nIf your clients are flat, simple networks then you probably won’t miss support (they have it, but the last time I used it left me irritated). \\n\\nWhen we were a Ubiquiti shop we had quite a lot of device failures. Much more than any of the other networking gear we sold at the time. \\n\\nIt’s mostly fine stuff and will work well enough. You just sacrifice some things for going with the low cost provider.',\n",
       "    'score': 10,\n",
       "    'author_name': 'CmdrRJ-45',\n",
       "    'creation_time_utc': '2025-01-25 14:32:31'},\n",
       "   {'id': 'm93gagm',\n",
       "    'text': 'Works good enough for small networks. Sometimes unreliable and hardish to debug but okay for the price.',\n",
       "    'score': 3,\n",
       "    'author_name': 'Enough_Cauliflower69',\n",
       "    'creation_time_utc': '2025-01-25 14:41:34'}]},\n",
       " {'title': 'My wishlist for Kaseya to make things right with their partners',\n",
       "  'text': 'I know this is useless, but I want to do it anyway.\\n\\n2 weeks ago, we all heard about Kaseya\\'s CEO \"stepping down\" with no announced replacement.\\n\\nI have only one thing to say to this man : I just hope you\\'ll try harder not being a dick in the future.\\n\\nBut I have a few things to tell his successor, because I think this is a unique opportunity for Kaseya to make things right.\\n\\nHere\\'s what I\\'d like to see :\\n\\n* Restore Datto, adopt its former culture and shift the focus to your partners instead of just making money. Fire toxic people. Maybe even rename to Datto.\\n* Resume integrations with the ecosystem, not just with other Kaseya owned products.\\n* Restore DattoCons true colors by nurturing the ecosystem around you, instead of dominating them.\\n* Bring back \"Partner\" instead of \"Client\" on our visitor badges, and make it make sense.\\n* Bring back US-based product development teams instead of Belarus and clean the house from inevitable foreign intelligence from this rogue country.\\n* Restore and accelerate the development of your acquired products, and especially tackle the list of user submitted features in all your \"Ideas\" forums. Show us you actually care.\\n* Fire the puppet former FBI CISO and hire someone with actual knowledge and authority in the industry. Yes, he probably has things to say about 2021, just come forward with it, own it and show us you\\'re doing better.\\n* Launch a state-of-the-art cybersecurity posture with full transparency + a bug bounty program.\\n* Remove high watermark on quantities at contract renewal. ie : if I commit for 1000 endpoints, consume 1100 endpoints, my renewal shouldn\\'t automatically commit for 1100, especially not at the same price.\\n* Bring back Datto BCDR renewals to month to month after initial commitment.\\n* Bring yearly contracts back at the price they were before (that became 3 years contracts pricing).\\n* Stop autorenewals for greater periods than the initial period.\\n* Fix your damn billing problems, for good.\\n* Indemnify the MSPs you overcharged.\\n* Get us a special number to call with humans that have actual transversal power to help when something is stuck with billing.\\n* Reveal all the companies you silently own.\\n\\nTo my fellow MSPs, please feel free to add to this list.',\n",
       "  'score': 58,\n",
       "  'creation_time_utc': '2025-01-24 20:35:02',\n",
       "  'id': '1i95a13',\n",
       "  'url': 'https://www.reddit.com/r/msp/comments/1i95a13/my_wishlist_for_kaseya_to_make_things_right_with/',\n",
       "  'author_name': 'CK1026',\n",
       "  'comments': [{'id': 'm8z5qxf',\n",
       "    'text': 'Sweet summer child.',\n",
       "    'score': 30,\n",
       "    'author_name': 'chillzatl',\n",
       "    'creation_time_utc': '2025-01-24 20:46:15'},\n",
       "   {'id': 'm8z93ac',\n",
       "    'text': \"i believe de facto interim CEO acknowledged outgoing CEO's sales-driven aggressive approach as harmful and off-putting to MSP partners. so at least there's that.\",\n",
       "    'score': 9,\n",
       "    'author_name': 'trebuchetdoomsday',\n",
       "    'creation_time_utc': '2025-01-24 21:02:00'},\n",
       "   {'id': 'm8zov1a',\n",
       "    'text': '* Send me a check for the 3-year agreement we were forced into and the cost of covering the collections fee that should have never happened.\\n* Fire all toxic people who have no soul',\n",
       "    'score': 8,\n",
       "    'author_name': 'Psychological-Dance7',\n",
       "    'creation_time_utc': '2025-01-24 22:16:57'},\n",
       "   {'id': 'm8zw0qb',\n",
       "    'text': \"What is funny is when Datto got acquired by Kaseya, i posted that I'd hoped that big k would be smart and adopt Datto's culture... They had an opportunity and whiffed. That genie ain't going back in the bottle I'm sad to say.\\n\\nNothing on your wish list aligns w/ VC goal, quite the opposite.\",\n",
       "    'score': 9,\n",
       "    'author_name': 'RaNdomMSPPro',\n",
       "    'creation_time_utc': '2025-01-24 22:52:59'},\n",
       "   {'id': 'm8z6pkw',\n",
       "    'text': \"Have a working BCDR agent for Linux that supports an out of the box install of Red Hat,   Even better ensure that RHEL updates don't cause the Datto BCDR agent to kernel panic.\",\n",
       "    'score': 9,\n",
       "    'author_name': 'Roland465',\n",
       "    'creation_time_utc': '2025-01-24 20:50:47'}]},\n",
       " {'title': 'UK MSP Pricing advice',\n",
       "  'text': \"Hello all,\\n\\nJust wondering if anyone would be willing to share some advice or how much you charge clients in the UK/London area?\\n\\nI work at a small MSP and trying to see what our pricing model compares to others and if we can offer anything else.\\n\\nFor the bottom tier remote support, we charge around £50 per user plus some fees for per machine and RMM monitoring, patching, edr/av. Cloud management fees and mostly billable on site visits. Plus project and adhoc clients. \\n\\nI am mostly trying to see where we can either charge more competitively and what other services we should look to offer. \\n\\nWould also be nice to know what RMM tools you use and if you offer any pen testing and vulnerability remediation as a fully support package. Currently this would be a billable project esc work with a vendor to provide the services. \\n\\nIf you got any questions let me know too.\\n\\nEdit: we also don't use a ticketing system as upper management prefers direct email support to a shared mailbox/email.\\n\\nDo you have any recommendations around ticketing and data around that that is cheap or free so we can look at optermising reoccurring issues etc. \",\n",
       "  'score': 0,\n",
       "  'creation_time_utc': '2025-01-25 17:07:41',\n",
       "  'id': '1i9rkqq',\n",
       "  'url': 'https://www.reddit.com/r/msp/comments/1i9rkqq/uk_msp_pricing_advice/',\n",
       "  'author_name': 'Willz12h',\n",
       "  'comments': [{'id': 'm94ccg4',\n",
       "    'text': '#LowBarrierToEntry',\n",
       "    'score': 1,\n",
       "    'author_name': 'dumpsterfyr',\n",
       "    'creation_time_utc': '2025-01-25 17:22:43'},\n",
       "   {'id': 'm94iqca',\n",
       "    'text': 'Direct mail support to a shared mailbox 😆.',\n",
       "    'score': 1,\n",
       "    'author_name': 'Alternative-Yak1316',\n",
       "    'creation_time_utc': '2025-01-25 17:53:20'},\n",
       "   {'id': 'm94dq2u',\n",
       "    'text': 'Kindly elaborate.',\n",
       "    'score': 1,\n",
       "    'author_name': 'Alternative-Yak1316',\n",
       "    'creation_time_utc': '2025-01-25 17:29:23'},\n",
       "   {'id': 'm94f85g',\n",
       "    'text': 'By ~~~your~~~ OP’s writing, OP don’t appear to have the proper systems in place. But OP is servicing clients.',\n",
       "    'score': 1,\n",
       "    'author_name': 'dumpsterfyr',\n",
       "    'creation_time_utc': '2025-01-25 17:36:34'},\n",
       "   {'id': 'm94fsjx',\n",
       "    'text': 'I was only asking for OP.',\n",
       "    'score': 1,\n",
       "    'author_name': 'Alternative-Yak1316',\n",
       "    'creation_time_utc': '2025-01-25 17:39:16'}]},\n",
       " {'title': 'MSP Predictions for 2025',\n",
       "  'text': 'Our managed services (MSP) team at Canalys has just launched a comprehensive view of the $595 billion MSP-delivered, global managed services business. The overall market TAM is $610 billion and includes services delivered by vendors directly.   \\n  \\nJust for perspective, this market is 1.5X larger than the SaaS market (Salesforce, ServiceNow, HubSpot, Microsoft, and 250,000 others) and also 1.5X larger than the global hyperscalers combined! (Amazon Web Services (AWS), Microsoft, Google, Oracle, Alibaba Group, etc.)  \\n  \\nOr another way to put it - for every dollar of hardware or software purchased by businesses or governments ($1 trillion markets each), 30 cents gets generated in managed services. Over 82% of end clients are increasing their outsourcing spend.  \\n  \\nThe massive industry is growing by 13% in 2025 because of the demands of the new Agentic AI era, digital transformation, automation, cybersecurity, and cost efficiencies of having experts \"on demand\".  \\n  \\nThe report reviews of compliance, regulation, governance, and shifting political winds around the world in addition to M&A outlook, growth of cloud marketplaces, shifting distribution landscape, training, and even the impact on the $1.4 trillion telco market.\\n\\nSummary of trends - [https://canalys.com/insights/msp-trends-2025-es](https://canalys.com/insights/msp-trends-2025-es)\\n\\nHappy to send detailed report as well for those that want it.\\n\\n',\n",
       "  'score': 17,\n",
       "  'creation_time_utc': '2025-01-24 22:19:12',\n",
       "  'id': '1i97oxu',\n",
       "  'url': 'https://www.reddit.com/r/msp/comments/1i97oxu/msp_predictions_for_2025/',\n",
       "  'author_name': 'jaymcbain',\n",
       "  'comments': [{'id': 'm8zsp3r',\n",
       "    'text': 'If this is like the other report ya\\'ll put out recent about the industry, it was missing a lot of data from common in-industry names and included a lot of data from names none of us have heard of. \\n\\nmakes me wonder if some of the enterprise vendors are reporting B2C (via b2b) as \"managed services\" when its just Cisco selling directly to some fortune5000 etc.',\n",
       "    'score': 12,\n",
       "    'author_name': 'UsedCucumber4',\n",
       "    'creation_time_utc': '2025-01-24 22:36:10'},\n",
       "   {'id': 'm8zquwj',\n",
       "    'text': 'Woah, I had no idea the MSP market was bigger than SaaS and hyperscalers markets.',\n",
       "    'score': 2,\n",
       "    'author_name': 'CK1026',\n",
       "    'creation_time_utc': '2025-01-24 22:26:55'},\n",
       "   {'id': 'm8zy3fa',\n",
       "    'text': 'Would love to see the full report.',\n",
       "    'score': 1,\n",
       "    'author_name': 'techgurusa',\n",
       "    'creation_time_utc': '2025-01-24 23:03:38'},\n",
       "   {'id': 'm906ttj',\n",
       "    'text': 'please send me a copy',\n",
       "    'score': 1,\n",
       "    'author_name': 'Slow_Peach_2141',\n",
       "    'creation_time_utc': '2025-01-24 23:49:55'},\n",
       "   {'id': 'm90u5ej',\n",
       "    'text': \"I'm not sure if this is the post to comment on, but I have a question regarding the future of the MSP business. I can understand the need to be the first to have full integration with AI, but I feel that with the company I'm at, we are pushing AI so hard without thinking what risks could happen. I can see the positives, and I agree they are worth striving for. However, I can see risks as well. I can't put them into words yet, but there's something in the back of my mind that's erring to the side of caution. I believe having a strong security system in place would be beneficial. Am I thinking too far ahead, or is there something I'm not seeing? Any advice would really help me on this.\",\n",
       "    'score': 1,\n",
       "    'author_name': 'ProfessionalDue5196',\n",
       "    'creation_time_utc': '2025-01-25 02:00:06'}]}]"
      ]
     },
     "execution_count": 15,
     "metadata": {},
     "output_type": "execute_result"
    }
   ],
   "source": [
    "[p.model_dump() for p in posts]"
   ]
  },
  {
   "cell_type": "code",
   "execution_count": null,
   "metadata": {},
   "outputs": [
    {
     "data": {
      "text/plain": [
       "'{\\n    \"title\": \"Weekly Promo and Webinar Thread\",\\n    \"text\": \"Vendors, please put self-promoting posts or webinar information in this thread. Threads that are posted elsewhere will be removed.\\\\n\\\\n**Please do not use URL shorteners. Reddit doesn\\'t like these and your posts will be automatically removed by the auto moderator. Only include direct posts to your site.**\\\\n\\\\nIt\\'s fine to post if you did last week - if the group doesn\\'t want to see it again, your comment will just get downvoted :)\",\\n    \"score\": 6,\\n    \"creation_time_utc\": \"2025-01-20 05:01:36\",\\n    \"id\": \"1i5inna\",\\n    \"url\": \"https://www.reddit.com/r/msp/comments/1i5inna/weekly_promo_and_webinar_thread/\",\\n    \"author_name\": \"AutoModerator\",\\n    \"comments\": [\\n        {\\n            \"id\": \"m84ggvd\",\\n            \"text\": \"# [MSP Partner Program. Boost Your Sales And Profits.](https://easydmarc.com/solutions/dmarc-managed-service-providers?utm_source=social&utm_medium=reddit&utm_campaign=MSP)\\\\n\\\\nDo you know that?\\\\n\\\\n* MSPs emphasizing DMARC compliance as a key component of their services have reported a 25% growth in their client base.\\\\n* MSPs incorporating DMARC into their service offerings have reported a 15% growth in customer retention rates.\\\\n\\\\nIf you’re an MSP aiming to boost your revenue and customer loyalty, EasyDMARC is the perfect solution. Our email authentication platform simplifies domain management, offering features like organization control, domain grouping, and access management.\\\\n\\\\nMoreover, we offer a complete sales and marketing enablement program to enhance your DMARC sales, all on a scalable platform with a flexible pay-as-you-go pricing model. Choose EasyDMARC to protect your customers from phishing and supercharge their email deliverability!\\\\n\\\\n# Benefits\\\\n\\\\n* Increased revenue without new client acquisition spending\\\\n* Explore new profit channels by using DMARC for lead generation\\\\n* Reduce IT support costs due to small overhead and manual labor elimination\\\\n* Ensure substantial business growth due to the fact that the platform scales with you\\\\n* Leverage our expertise during one-on-one training with a dedicated DMARC professional\\\\n* Improve customer retention and satisfaction due to timely reports and a vast knowledge base\\\\n* Get a competitive advantage by automating daily tasks with our cloud-native DMARC platform\\\\n\\\\nContact our dedicated DMARC MSP professional today to learn more about our services and get a quote based on your needs.\\\\n\\\\n# [Book a Free Consultation](https://easydmarc.com/solutions/dmarc-managed-service-providers?utm_source=social&utm_medium=reddit&utm_campaign=MSP#contact-us)\",\\n            \"score\": 4,\\n            \"author_name\": \"easy_dmarc\",\\n            \"creation_time_utc\": \"2025-01-20 06:43:56\"\\n        },\\n        {\\n            \"id\": \"m84rhlr\",\\n            \"text\": \"# 💭Not growing as fast as you’d like? It’s time to fix your lead gen problem for good…\\\\n\\\\nAnd yes, many times, it’s not a sales problem. It’s a lead generation problem.\\\\n\\\\nHere’s the fact about that.\\\\n\\\\n❌ Without a\\xa0tried, replicable lead generation machine, your mid-market MSP will keep hemorrhaging cash in the name of advertising/marketing.\\\\n\\\\nYou don’t want that.\\\\n\\\\nWe’re at a point in the world economy where you can’t afford to take chances.\\\\n\\\\nYou can’t afford to be unsure of what marketing channels to focus on.\\\\n\\\\nA little bit of Facebook Messenger and a little bit of cold calling isn’t going to get you leads consistently and reliably at this point (it never really has).\\\\n\\\\n➡️ You need a lead generation system that works for MSPs looking to attract 50 - 250 seat leads ONLINE. One that you can rely on to get you out of the lead drought you’re currently facing.\\\\n\\\\nBecause every business is trimming expenses, many are taking IT management in-house…\\\\n\\\\nIf (for any reason) a client needs to “pause” their contract, you need to know that you’re not waiting on the next referral to make up for that.\\\\n\\\\nWhat’s more, you’ve heard it before. A recession isn’t the time to back down. It’s the time to take advantage of the quietness in the market, and seize a larger market share than you’ve ever had.\\\\n\\\\nNow, I’ll be the first to tell you that at MSP Launchpad, we’re not magicians…🚫\\\\n\\\\n✅ But we’ve been at this long enough to know exactly what works to attract the kinds of businesses you want (and need to attract) to ramp up your MRR and grow in a recession.\\\\n\\\\n✅ We’ve already helped dozens of MSPs across the US, Canada, Australia, and Europe generate 3 - 10 leads per month (see some testimonials\\xa0[here](https://www.msplaunchpad.com/testimonials?utm_source=reddit&utm_medium=social&utm_term=weekly_post&utm_content=testimonial&utm_campaign=msp_website_weekly_thread&utm_source_platform=&utm_creative_format=reddit_thread&utm_marketing_tactic=reddit_testimonials)).\\\\n\\\\nNow it’s your turn. Because not being a marketing expert is no reason why you should be stuck with a dried-up lead flow.\\\\n\\\\n💥We have an all-in-one, proven solution for MSPs in the 6 - 8 figure range. Click here to check it out NOW👉[MSP-GAP](https://www.msplaunchpad.com/msp-growth-accelerator-program?utm_source=reddit&utm_medium=social&utm_term=weekly_post&utm_content=reddit_organic&utm_campaign=msp_website_weekly_thread&utm_source_platform=&utm_creative_format=reddit_thread&utm_marketing_tactic=reddit_weekly_promo).\\\\n\\\\nWe’re rolling out this solution on a first-come, first-served basis, with a hard cap on the number of MSPs we can accept per city (more details\\xa0[here](https://www.msplaunchpad.com/testimonials?utm_source=reddit&utm_medium=social&utm_term=weekly_post&utm_content=testimonial&utm_campaign=msp_website_weekly_thread&utm_source_platform=&utm_creative_format=reddit_thread&utm_marketing_tactic=reddit_testimonials)📌).\\\\n\\\\nThe ball is in your court.\\\\n\\\\nYou probably wish you could wave a wand and get your lead-gen issue resolved, right? Well, clicking the link is the closest you’ll ever get to that.\\\\n\\\\nFocus on your clients; let’s get you leads.\\\\n\\\\n![gif](emote|free_emotes_pack|upvote)\\xa0[Click here](https://www.msplaunchpad.com/msp-growth-accelerator-program?utm_source=reddit&utm_medium=social&utm_term=weekly_post&utm_content=reddit_organic&utm_campaign=msp_website_weekly_thread&utm_source_platform=&utm_creative_format=reddit_thread&utm_marketing_tactic=reddit_weekly_promo)\\xa0to see just how we do it (and case studies of MSPs we’ve helped).\\\\n\\\\nSee you on the\\xa0other side.\",\\n            \"score\": 4,\\n            \"author_name\": \"ThanhMSP\",\\n            \"creation_time_utc\": \"2025-01-20 08:31:08\"\\n        },\\n        {\\n            \"id\": \"m84616r\",\\n            \"text\": \"# [The AI Service Coordinator for your MSP.](https://www.giantrocketship.com/?utm_source%3Dreddit.com%2Fr%2Fautotask)\\\\nOur value proposition at [Giant Rocketship](https://www.giantrocketship.com/?utm_source=reddit.com/r/autotask) is easy: *We increase the profitability of your MSP helpdesk*.\\\\n\\\\nWe do that by:\\\\n\\\\n✅ **Reducing labor cost per ticket**\\\\n\\\\n✅ **Reducing administrative grind**\\\\n\\\\n✅ **Reducing ticket time-to-close**\\\\n\\\\n**[Rocketship](https://www.giantrocketship.com/?utm_source%3Dreddit.com%2Fr%2Fautotask) modernizes the ticket lifecycle in Autotask**, seamlessly integrating intelligent assignment, optimized scheduling, on-demand escalations, and SLA-driven work queuing and AI-driven predictions. \\\\n\\\\nOur software works best with MSPs that have 5 or more techs -- that\\'s when \\\\\"self-dispatching\\\\\" costs more than it saves. At 25-30 techs, Giant Rocketship enables a single dispatcher to scale to 50 techs without missing a beat.\\\\n\\\\nIt\\'s not Autotask or Rocketship, it\\'s ***Autotask+Rocketship*** for high-performing MSP helpdesks. Join the growing ranks of MSPs that deploy Autotask+Rocketship as the foundation of their support stack.\\\\n\\\\nWe provide a 30-day free trial.\\\\n\\\\n[Schedule Online Demo](https://www.giantrocketship.com/schedule-demo/?utm_source=reddit.com/r/autotask)\\\\n\\\\nConnectWise Manage support is coming in late Q4!\\\\n\\u200b\",\\n            \"score\": 2,\\n            \"author_name\": \"grsftw\",\\n            \"creation_time_utc\": \"2025-01-20 05:16:29\"\\n        },\\n        {\\n            \"id\": \"m85gz12\",\\n            \"text\": \"Is this you?\\\\n\\\\n* Need to manage hundreds or thousands of TOTP 2FA tokens?\\\\n* Want to set access levels per TOTP 2FA token, and not per group, vault, etc?\\\\n* Want more insights into 2FA token use, e.g. with a detailed audit log?\\\\n* Don\\'t want to store \\\\\\\\_everything\\\\\\\\_ in IT Glue/Hudu/your password manager?\\\\n\\\\nNow you can!\\\\n\\\\n[👉 **Daito is 2FA as a service, a web-based TOTP 2FA authenticator for MSPs, SMBs and internal IT teams.**](https://www.daito.io/?utm_campaign=msp-promo-2025-01-20)\\\\n\\\\nSecurely share access, no phone needed! 2FA tokens only, not a password manager!\\\\n\\\\nPopular features:\\\\n\\\\n* Fully web-based, use from any browser, no app needed.\\\\n* See which user used what 2FA token when in the searchable audit log\\\\n* Limit to read-only access possible: You decide if users get read-only access to 2FA tokens, or if they can access the 2FA secret key as well (great for limiting access of freelancers & agencies)\\\\n* Not a password manager, Daito is only for 2FA authentication\\\\n* Easy imports: easily add accounts by copy-pasting 2FA secret keys, scanning or uploading QR codes\\\\n* 5-second-migration from Google Authenticator (simply scan the migration code for migration)\\\\n* Export and backup all your 2FA seeds as CSV\\\\n* Easy management of groups of users and accounts\\\\n* SAML SSO (and not only for enterprise tiers!)\\\\n\\\\n[👉 **Visit now and start a free 14-day trial and test with your entire team!**](https://www.daito.io/?utm_campaign=msp-promo-2025-01-20)\\\\n\\\\nShared 2FA, simplified!\",\\n            \"score\": 2,\\n            \"author_name\": \"janfromdaito\",\\n            \"creation_time_utc\": \"2025-01-20 12:43:00\"\\n        },\\n        {\\n            \"id\": \"m8fafai\",\\n            \"text\": \"# [Ditch VPNs with Timus SASE](https://www.timusnetworks.com/?utm_campaign=Social%20Platform%20Campaigns&utm_source=reddit&utm_medium=social)!\\\\n\\\\n✅ Secure, Always-On Access to Resources. Anytime, Anywhere, on Any Device  \\\\n🚀Zero Trust Network Access. Adaptive Cloud Firewall. Secure Web Gateway. In One.  \\\\n📣Deploy in 30 minutes or less  \\\\n  \\\\n[**The**\\xa0**~~Future~~**\\xa0**\\\\\"Now\\\\\" of Secure Remote Access**](https://www.timusnetworks.com/request-a-demo/?utm_campaign=Social%20Platform%20Campaigns&utm_source=reddit&utm_medium=social)  \\\\n🔐\\xa0Stay Secure and Compliant  \\\\n✨\\xa0[MSP and MSSP Partner](https://www.timusnetworks.com/partners/msp-partner-solutions/)\\xa0Focused  \\\\n🔥\\xa0Increase your MRR and Drive Business Growth  \\\\n  \\\\n[**How does Timus SASE help MSPs and MSSPs?**](https://www.timusnetworks.com/request-a-demo/?utm_campaign=Social%20Platform%20Campaigns&utm_source=reddit&utm_medium=social)\\\\n\\\\n* Recurring Revenue Growth\\\\n* Reduced Support Tickets\\\\n* Operational Efficienties\\\\n* Centralized Management\\\\n* Compliance\\\\n\\\\n**➡️** [**Book a demo**](https://www.timusnetworks.com/request-a-demo/?utm_campaign=Social%20Platform%20Campaigns&utm_source=reddit&utm_medium=social)\\xa0**- TRY TIMUS SASE NOW!!!**\\\\n\\\\n(Also, check out our [***latest case study***](https://www.timusnetworks.com/resources/case-studies/transforming-hybrid-it-security-with-timus-sase?utm_campaign=Social%20Platform%20Campaigns&utm_source=reddit&utm_medium=social)!)\",\\n            \"score\": 2,\\n            \"author_name\": \"Powerful-Item-3835\",\\n            \"creation_time_utc\": \"2025-01-21 21:43:12\"\\n        }\\n    ]\\n}'"
      ]
     },
     "execution_count": 19,
     "metadata": {},
     "output_type": "execute_result"
    }
   ],
   "source": [
    "p = posts[0]\n",
    "p.model_dump_json(indent=4)\n"
   ]
  },
  {
   "cell_type": "code",
   "execution_count": null,
   "metadata": {},
   "outputs": [
    {
     "data": {
      "text/plain": [
       "RedditPost(title='Weekly Promo and Webinar Thread', text=\"Vendors, please put self-promoting posts or webinar information in this thread. Threads that are posted elsewhere will be removed.\\n\\n**Please do not use URL shorteners. Reddit doesn't like these and your posts will be automatically removed by the auto moderator. Only include direct posts to your site.**\\n\\nIt's fine to post if you did last week - if the group doesn't want to see it again, your comment will just get downvoted :)\", score=6, creation_time_utc='2025-01-20 05:01:36', id='1i5inna', url='https://www.reddit.com/r/msp/comments/1i5inna/weekly_promo_and_webinar_thread/', author_name='AutoModerator', comments=[RedditComment(id='m84ggvd', text='# [MSP Partner Program. Boost Your Sales And Profits.](https://easydmarc.com/solutions/dmarc-managed-service-providers?utm_source=social&utm_medium=reddit&utm_campaign=MSP)\\n\\nDo you know that?\\n\\n* MSPs emphasizing DMARC compliance as a key component of their services have reported a 25% growth in their client base.\\n* MSPs incorporating DMARC into their service offerings have reported a 15% growth in customer retention rates.\\n\\nIf you’re an MSP aiming to boost your revenue and customer loyalty, EasyDMARC is the perfect solution. Our email authentication platform simplifies domain management, offering features like organization control, domain grouping, and access management.\\n\\nMoreover, we offer a complete sales and marketing enablement program to enhance your DMARC sales, all on a scalable platform with a flexible pay-as-you-go pricing model. Choose EasyDMARC to protect your customers from phishing and supercharge their email deliverability!\\n\\n# Benefits\\n\\n* Increased revenue without new client acquisition spending\\n* Explore new profit channels by using DMARC for lead generation\\n* Reduce IT support costs due to small overhead and manual labor elimination\\n* Ensure substantial business growth due to the fact that the platform scales with you\\n* Leverage our expertise during one-on-one training with a dedicated DMARC professional\\n* Improve customer retention and satisfaction due to timely reports and a vast knowledge base\\n* Get a competitive advantage by automating daily tasks with our cloud-native DMARC platform\\n\\nContact our dedicated DMARC MSP professional today to learn more about our services and get a quote based on your needs.\\n\\n# [Book a Free Consultation](https://easydmarc.com/solutions/dmarc-managed-service-providers?utm_source=social&utm_medium=reddit&utm_campaign=MSP#contact-us)', score=4, author_name='easy_dmarc', creation_time_utc='2025-01-20 06:43:56'), RedditComment(id='m84rhlr', text='# 💭Not growing as fast as you’d like? It’s time to fix your lead gen problem for good…\\n\\nAnd yes, many times, it’s not a sales problem. It’s a lead generation problem.\\n\\nHere’s the fact about that.\\n\\n❌ Without a\\xa0tried, replicable lead generation machine, your mid-market MSP will keep hemorrhaging cash in the name of advertising/marketing.\\n\\nYou don’t want that.\\n\\nWe’re at a point in the world economy where you can’t afford to take chances.\\n\\nYou can’t afford to be unsure of what marketing channels to focus on.\\n\\nA little bit of Facebook Messenger and a little bit of cold calling isn’t going to get you leads consistently and reliably at this point (it never really has).\\n\\n➡️ You need a lead generation system that works for MSPs looking to attract 50 - 250 seat leads ONLINE. One that you can rely on to get you out of the lead drought you’re currently facing.\\n\\nBecause every business is trimming expenses, many are taking IT management in-house…\\n\\nIf (for any reason) a client needs to “pause” their contract, you need to know that you’re not waiting on the next referral to make up for that.\\n\\nWhat’s more, you’ve heard it before. A recession isn’t the time to back down. It’s the time to take advantage of the quietness in the market, and seize a larger market share than you’ve ever had.\\n\\nNow, I’ll be the first to tell you that at MSP Launchpad, we’re not magicians…🚫\\n\\n✅ But we’ve been at this long enough to know exactly what works to attract the kinds of businesses you want (and need to attract) to ramp up your MRR and grow in a recession.\\n\\n✅ We’ve already helped dozens of MSPs across the US, Canada, Australia, and Europe generate 3 - 10 leads per month (see some testimonials\\xa0[here](https://www.msplaunchpad.com/testimonials?utm_source=reddit&utm_medium=social&utm_term=weekly_post&utm_content=testimonial&utm_campaign=msp_website_weekly_thread&utm_source_platform=&utm_creative_format=reddit_thread&utm_marketing_tactic=reddit_testimonials)).\\n\\nNow it’s your turn. Because not being a marketing expert is no reason why you should be stuck with a dried-up lead flow.\\n\\n💥We have an all-in-one, proven solution for MSPs in the 6 - 8 figure range. Click here to check it out NOW👉[MSP-GAP](https://www.msplaunchpad.com/msp-growth-accelerator-program?utm_source=reddit&utm_medium=social&utm_term=weekly_post&utm_content=reddit_organic&utm_campaign=msp_website_weekly_thread&utm_source_platform=&utm_creative_format=reddit_thread&utm_marketing_tactic=reddit_weekly_promo).\\n\\nWe’re rolling out this solution on a first-come, first-served basis, with a hard cap on the number of MSPs we can accept per city (more details\\xa0[here](https://www.msplaunchpad.com/testimonials?utm_source=reddit&utm_medium=social&utm_term=weekly_post&utm_content=testimonial&utm_campaign=msp_website_weekly_thread&utm_source_platform=&utm_creative_format=reddit_thread&utm_marketing_tactic=reddit_testimonials)📌).\\n\\nThe ball is in your court.\\n\\nYou probably wish you could wave a wand and get your lead-gen issue resolved, right? Well, clicking the link is the closest you’ll ever get to that.\\n\\nFocus on your clients; let’s get you leads.\\n\\n![gif](emote|free_emotes_pack|upvote)\\xa0[Click here](https://www.msplaunchpad.com/msp-growth-accelerator-program?utm_source=reddit&utm_medium=social&utm_term=weekly_post&utm_content=reddit_organic&utm_campaign=msp_website_weekly_thread&utm_source_platform=&utm_creative_format=reddit_thread&utm_marketing_tactic=reddit_weekly_promo)\\xa0to see just how we do it (and case studies of MSPs we’ve helped).\\n\\nSee you on the\\xa0other side.', score=4, author_name='ThanhMSP', creation_time_utc='2025-01-20 08:31:08'), RedditComment(id='m84616r', text='# [The AI Service Coordinator for your MSP.](https://www.giantrocketship.com/?utm_source%3Dreddit.com%2Fr%2Fautotask)\\nOur value proposition at [Giant Rocketship](https://www.giantrocketship.com/?utm_source=reddit.com/r/autotask) is easy: *We increase the profitability of your MSP helpdesk*.\\n\\nWe do that by:\\n\\n✅ **Reducing labor cost per ticket**\\n\\n✅ **Reducing administrative grind**\\n\\n✅ **Reducing ticket time-to-close**\\n\\n**[Rocketship](https://www.giantrocketship.com/?utm_source%3Dreddit.com%2Fr%2Fautotask) modernizes the ticket lifecycle in Autotask**, seamlessly integrating intelligent assignment, optimized scheduling, on-demand escalations, and SLA-driven work queuing and AI-driven predictions. \\n\\nOur software works best with MSPs that have 5 or more techs -- that\\'s when \"self-dispatching\" costs more than it saves. At 25-30 techs, Giant Rocketship enables a single dispatcher to scale to 50 techs without missing a beat.\\n\\nIt\\'s not Autotask or Rocketship, it\\'s ***Autotask+Rocketship*** for high-performing MSP helpdesks. Join the growing ranks of MSPs that deploy Autotask+Rocketship as the foundation of their support stack.\\n\\nWe provide a 30-day free trial.\\n\\n[Schedule Online Demo](https://www.giantrocketship.com/schedule-demo/?utm_source=reddit.com/r/autotask)\\n\\nConnectWise Manage support is coming in late Q4!\\n\\u200b', score=2, author_name='grsftw', creation_time_utc='2025-01-20 05:16:29'), RedditComment(id='m85gz12', text=\"Is this you?\\n\\n* Need to manage hundreds or thousands of TOTP 2FA tokens?\\n* Want to set access levels per TOTP 2FA token, and not per group, vault, etc?\\n* Want more insights into 2FA token use, e.g. with a detailed audit log?\\n* Don't want to store \\\\_everything\\\\_ in IT Glue/Hudu/your password manager?\\n\\nNow you can!\\n\\n[👉 **Daito is 2FA as a service, a web-based TOTP 2FA authenticator for MSPs, SMBs and internal IT teams.**](https://www.daito.io/?utm_campaign=msp-promo-2025-01-20)\\n\\nSecurely share access, no phone needed! 2FA tokens only, not a password manager!\\n\\nPopular features:\\n\\n* Fully web-based, use from any browser, no app needed.\\n* See which user used what 2FA token when in the searchable audit log\\n* Limit to read-only access possible: You decide if users get read-only access to 2FA tokens, or if they can access the 2FA secret key as well (great for limiting access of freelancers & agencies)\\n* Not a password manager, Daito is only for 2FA authentication\\n* Easy imports: easily add accounts by copy-pasting 2FA secret keys, scanning or uploading QR codes\\n* 5-second-migration from Google Authenticator (simply scan the migration code for migration)\\n* Export and backup all your 2FA seeds as CSV\\n* Easy management of groups of users and accounts\\n* SAML SSO (and not only for enterprise tiers!)\\n\\n[👉 **Visit now and start a free 14-day trial and test with your entire team!**](https://www.daito.io/?utm_campaign=msp-promo-2025-01-20)\\n\\nShared 2FA, simplified!\", score=2, author_name='janfromdaito', creation_time_utc='2025-01-20 12:43:00'), RedditComment(id='m8fafai', text='# [Ditch VPNs with Timus SASE](https://www.timusnetworks.com/?utm_campaign=Social%20Platform%20Campaigns&utm_source=reddit&utm_medium=social)!\\n\\n✅ Secure, Always-On Access to Resources. Anytime, Anywhere, on Any Device  \\n🚀Zero Trust Network Access. Adaptive Cloud Firewall. Secure Web Gateway. In One.  \\n📣Deploy in 30 minutes or less  \\n  \\n[**The**\\xa0**~~Future~~**\\xa0**\"Now\" of Secure Remote Access**](https://www.timusnetworks.com/request-a-demo/?utm_campaign=Social%20Platform%20Campaigns&utm_source=reddit&utm_medium=social)  \\n🔐\\xa0Stay Secure and Compliant  \\n✨\\xa0[MSP and MSSP Partner](https://www.timusnetworks.com/partners/msp-partner-solutions/)\\xa0Focused  \\n🔥\\xa0Increase your MRR and Drive Business Growth  \\n  \\n[**How does Timus SASE help MSPs and MSSPs?**](https://www.timusnetworks.com/request-a-demo/?utm_campaign=Social%20Platform%20Campaigns&utm_source=reddit&utm_medium=social)\\n\\n* Recurring Revenue Growth\\n* Reduced Support Tickets\\n* Operational Efficienties\\n* Centralized Management\\n* Compliance\\n\\n**➡️** [**Book a demo**](https://www.timusnetworks.com/request-a-demo/?utm_campaign=Social%20Platform%20Campaigns&utm_source=reddit&utm_medium=social)\\xa0**- TRY TIMUS SASE NOW!!!**\\n\\n(Also, check out our [***latest case study***](https://www.timusnetworks.com/resources/case-studies/transforming-hybrid-it-security-with-timus-sase?utm_campaign=Social%20Platform%20Campaigns&utm_source=reddit&utm_medium=social)!)', score=2, author_name='Powerful-Item-3835', creation_time_utc='2025-01-21 21:43:12')])"
      ]
     },
     "execution_count": 20,
     "metadata": {},
     "output_type": "execute_result"
    }
   ],
   "source": [
    "from pathlib import Path\n",
    "\n",
    "Path(r\"C:\\repos\\sales_competitor_analysis\\test.json\").write_text(p.model_dump_json(indent=4))\n",
    "p2 = RedditPost.model_validate_json(Path(r\"C:\\repos\\sales_competitor_analysis\\test.json\").read_text())\n",
    "    \n",
    "p2"
   ]
  },
  {
   "cell_type": "code",
   "execution_count": null,
   "metadata": {},
   "outputs": [],
   "source": [
    "from datetime import timezone\n",
    "import praw\n",
    "import os\n",
    "\n",
    "# Configure the Reddit instance\n",
    "reddit = praw.Reddit(\n",
    "    client_id=os.environ['REDDIT_API_CLIENT_ID'],\n",
    "    client_secret=os.environ['REDDIT_API_CLIENT_SECRET'],\n",
    "    user_agent=\"YOUR_USER_AGENT\"\n",
    ")\n",
    "\n",
    "# Choose a subreddit\n",
    "subreddit_name = \"msp\"  # Replace with the subreddit you're interested in\n",
    "query = \"Sentinel One\"\n",
    "subreddit = reddit.subreddit(subreddit_name)\n",
    "\n",
    "# Fetch the top 5 posts\n",
    "posts = []\n",
    "print(f\"Fetching top 5 posts from r/{subreddit_name}\")\n",
    "for post in subreddit.search(query, sort=\"relevance\", limit=3):\n",
    "    creation_time_utc = datetime.fromtimestamp(post.created_utc, tz=timezone.utc).strftime('%Y-%m-%d %H:%M:%S')\n",
    "\n",
    "    print(f\"\\nPost Title: {post.title}\")\n",
    "    print(f\"Post ID: {post.id}\")\n",
    "    print(f\"Score: {post.score}\")\n",
    "    print(f\"URL: {post.url}\")\n",
    "\n",
    "    # Fetch comments for the post\n",
    "    comments = []\n",
    "    print(\"\\nComments:\")\n",
    "    post.comments.replace_more(limit=0)  # Remove \"load more comments\"\n",
    "    for comment in post.comments.list()[:5]:  # Limit to the first 5 comments\n",
    "        print(f\"- {comment.body[:100]}...\")  # Print first 100 characters of each comment\n",
    "        comment_creation_time = datetime.fromtimestamp(comment.created_utc, tz=timezone.utc).strftime('%Y-%m-%d %H:%M:%S')\n",
    "        reddit_comment = RedditComment(\n",
    "            id=comment.id,\n",
    "            text=comment.body,\n",
    "            score=comment.score,\n",
    "            author_name=comment.author.name,\n",
    "            creation_time_utc=comment_creation_time\n",
    "        )\n",
    "        comments.append(reddit_comment)\n",
    "        \n",
    "    reddit_post = RedditPost(\n",
    "        title=post.title,\n",
    "        id=post.id,\n",
    "        score=post.score,\n",
    "        url=post.url,\n",
    "        text=post.selftext,\n",
    "        creation_time_utc=creation_time_utc,\n",
    "        author_name=post.author.name,\n",
    "        comments=comments\n",
    "    )\n",
    "    \n",
    "    posts.append(reddit_post)"
   ]
  },
  {
   "cell_type": "code",
   "execution_count": 21,
   "metadata": {},
   "outputs": [],
   "source": [
    "subreddit_name = \"msp\"  # Replace with the subreddit you're interested in\n",
    "query = \"Sentinel One\"\n",
    "subreddit = reddit.subreddit(subreddit_name)\n",
    "\n",
    "search_results = subreddit.search(query, sort=\"relevance\", limit=3)"
   ]
  },
  {
   "cell_type": "code",
   "execution_count": 24,
   "metadata": {},
   "outputs": [
    {
     "data": {
      "text/plain": [
       "'Why so much love for Sentinel One?'"
      ]
     },
     "execution_count": 24,
     "metadata": {},
     "output_type": "execute_result"
    }
   ],
   "source": [
    "next(search_results).title"
   ]
  }
 ],
 "metadata": {
  "kernelspec": {
   "display_name": "LLMExcersie",
   "language": "python",
   "name": "python3"
  },
  "language_info": {
   "codemirror_mode": {
    "name": "ipython",
    "version": 3
   },
   "file_extension": ".py",
   "mimetype": "text/x-python",
   "name": "python",
   "nbconvert_exporter": "python",
   "pygments_lexer": "ipython3",
   "version": "3.12.8"
  }
 },
 "nbformat": 4,
 "nbformat_minor": 2
}
