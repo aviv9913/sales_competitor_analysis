{
 "cells": [
  {
   "cell_type": "code",
   "execution_count": 4,
   "metadata": {},
   "outputs": [
    {
     "name": "stdout",
     "output_type": "stream",
     "text": [
      "The dotenv extension is already loaded. To reload it, use:\n",
      "  %reload_ext dotenv\n"
     ]
    }
   ],
   "source": [
    "%load_ext dotenv\n",
    "%dotenv"
   ]
  },
  {
   "cell_type": "code",
   "execution_count": 1,
   "metadata": {},
   "outputs": [],
   "source": [
    "from openai import OpenAI\n",
    "import os\n",
    "\n",
    "client = OpenAI(\n",
    "    api_key = os.environ.get('OPENAI_API_KEY'),\n",
    "    project= os.environ.get('OPENAI_PROJECT_ID'),\n",
    "    organization= os.environ.get('OPENAI_ORGANIZATION_ID')\n",
    ")"
   ]
  },
  {
   "cell_type": "code",
   "execution_count": 7,
   "metadata": {},
   "outputs": [
    {
     "name": "stderr",
     "output_type": "stream",
     "text": [
      "C:\\Users\\Aviv9\\AppData\\Local\\Temp\\ipykernel_4352\\3131962351.py:9: PydanticDeprecatedSince20: The `dict` method is deprecated; use `model_dump` instead. Deprecated in Pydantic V2.0 to be removed in V3.0. See Pydantic V2 Migration Guide at https://errors.pydantic.dev/2.10/migration/\n",
      "  response.dict()\n"
     ]
    },
    {
     "data": {
      "text/plain": [
       "{'id': 'chatcmpl-AtwenBb5jogyfpMT7dWOiSRoeKnR1',\n",
       " 'choices': [{'finish_reason': 'stop',\n",
       "   'index': 0,\n",
       "   'logprobs': None,\n",
       "   'message': {'content': \"The purpose of life is a deeply philosophical question and can vary greatly depending on individual beliefs, cultural backgrounds, and personal experiences. Some common perspectives include:\\n\\n1. **Biological Perspective**: From a scientific standpoint, the purpose of life can be seen as survival and reproduction. This perspective is centered around the idea of passing on genes to the next generation.\\n\\n2. **Philosophical Perspective**: Different philosophical schools offer various interpretations. For example:\\n   - Existentialists might argue that life has no inherent purpose, and it's up to each individual to create their own meaning.\\n   - Utilitarians may suggest that the purpose of life is to maximize happiness and reduce suffering.\\n\\n3. **Religious Perspective**: Many religions provide their own explanations for the purpose of life, often involving serving a higher power, spiritual growth, and the pursuit of moral and ethical living. For instance:\\n   - In Christianity, the purpose of life might involve serving God and others.\\n   - In Buddhism, it can be about overcoming suffering and achieving enlightenment.\\n\\n4. **Personal Perspective**: On a personal level, many people find purpose through relationships, personal growth, creativity, helping others, and contributing to society.\\n\\n5. **Existential Perspective**: Some might argue that meaning can be found through experiences, relationships, and the pursuit of passions.\\n\\nUltimately, the purpose of life is subjective and can be explored through contemplation, personal experiences, and discussions with others. It's a question that invites each individual to reflect on what brings them fulfillment and meaning.\",\n",
       "    'refusal': None,\n",
       "    'role': 'assistant',\n",
       "    'audio': None,\n",
       "    'function_call': None,\n",
       "    'tool_calls': None}}],\n",
       " 'created': 1737896881,\n",
       " 'model': 'gpt-4o-mini-2024-07-18',\n",
       " 'object': 'chat.completion',\n",
       " 'service_tier': 'default',\n",
       " 'system_fingerprint': 'fp_72ed7ab54c',\n",
       " 'usage': {'completion_tokens': 310,\n",
       "  'prompt_tokens': 24,\n",
       "  'total_tokens': 334,\n",
       "  'completion_tokens_details': {'accepted_prediction_tokens': 0,\n",
       "   'audio_tokens': 0,\n",
       "   'reasoning_tokens': 0,\n",
       "   'rejected_prediction_tokens': 0},\n",
       "  'prompt_tokens_details': {'audio_tokens': 0, 'cached_tokens': 0}}}"
      ]
     },
     "execution_count": 7,
     "metadata": {},
     "output_type": "execute_result"
    }
   ],
   "source": [
    "response = client.chat.completions.create(\n",
    "    model=\"gpt-4o-mini\",\n",
    "    messages=[\n",
    "        {\"role\": \"system\", \"content\": \"You are a helpful assistant.\"},\n",
    "        {\"role\": \"user\", \"content\": \"What is the purpose of life?\"}\n",
    "    ],\n",
    "    max_tokens=50\n",
    ")\n"
   ]
  },
  {
   "cell_type": "code",
   "execution_count": 2,
   "metadata": {},
   "outputs": [],
   "source": [
    "def get_system_message():\n",
    "    return \"\"\"# Overview\n",
    "You are tasked with summarizing a Reddit post related to SentinelOne and its competitors. Analyze the title and post text to extract key information useful for the marketing team. Follow the instructions carefully and structure the output as a JSON object.\n",
    "\n",
    "# Instructions:\n",
    "## Customer Status: Determine whether the poster is a customer of SentinelOne.\n",
    "Output as `is_customer`: `True` or `is_customer`: `False`.\n",
    "\n",
    "## Text Summary: Provide a brief summary of the post in one or two sentences.\n",
    "Focus on the main situation or issue discussed.\n",
    "\n",
    "## Competitor: Identify SentinelOne's competitor mentioned in the post.\n",
    "Not all posts will mention a competitor.\n",
    "Posts may mention multiple companies but focus only on the primary competitor.\n",
    "Output as \"competitor\": \"<Competitor Name>\". If none is mentioned, use \"competitor\": \"\".\n",
    "\n",
    "## Advantages of SentinelOne: List any advantages of SentinelOne over the competitor mentioned in the post.\n",
    "Use only phrases from the following list:\n",
    "* \"Security Features\"\n",
    "* \"Security Performance\"\n",
    "* \"User-Friendly Interface\"\n",
    "* \"Ease of Deployment\"\n",
    "* \"Scalability\"\n",
    "* \"Cross-Platform Support\"\n",
    "* \"Visibility\"\n",
    "* \"Customer Support\"\n",
    "* \"Integration\"\n",
    "* \"Cost\"\n",
    "\n",
    "If none are explicitly mentioned, leave as \"advantages\": [].\n",
    "\n",
    "## Disadvantages of SentinelOne: List any disadvantages of SentinelOne over the competitor mentioned in the post.\n",
    "Use only phrases from the following list:\n",
    "* \"Security Features\"\n",
    "* \"Security Performance\"\n",
    "* \"User-Friendly Interface\"\n",
    "* \"Ease of Deployment\"\n",
    "* \"Scalability\"\n",
    "* \"Cross-Platform Support\"\n",
    "* \"Visibility\"\n",
    "* \"Customer Support\"\n",
    "* \"Integration\"\n",
    "* \"Cost\"\n",
    "\n",
    "If none are explicitly mentioned, leave as \"disadvantages\": [].\n",
    "\n",
    "## Post Sentiment: Determine whether the post is in favor of SentinelOne, the competitor, or neutral.\n",
    "Output as \"sentiment\": \"Positive\", \"sentiment\": \"Negative\", or \"sentiment\": \"Neutral\".\n",
    "\n",
    "# Example:\n",
    "## Input\n",
    "Title: \"Ninja Forcing Us to Pay $20,000 for SentinelOne License\"\n",
    "Text: \"I need to vent about a frustrating situation we're dealing with at work. My colleague recently tried to *test* SentinelOne, which we apparently \\\"purchased\\\" through Ninja. Somehow, this turned into a $20,000 charge! The kicker? In our country, only a CEO can legally sign off on purchases of this nature. My colleague certainly doesn't have that authority.\\n\\nWe reached out to Ninja to explain the situation, but they're insisting we pay up. This seems ridiculous given the circumstances. Has anyone else dealt with something like this?\\n\\nHonestly, it feels like we're being strong-armed into paying for something we never intended to buy in the first place. \\n\\nUpdate:\\n\\nQuick update on the situation: I spoke with a representative from Ninja, and they were very understanding. We clarified the misunderstanding, and they agreed to remove the claim. Ninja handled it professionally, and I appreciate how cool they've been about the whole thing.\\n\\nI also want to clarify that we share a lot of the blame here. Ninja has been very professional about handling the situation. I'm glad we were able to resolve this amicably.\\n\\nThe big takeaway here is that we probably should have escalated the issue to the right person sooner.\\nLesson learned! Thanks to everyone who offered advice and support!\"\n",
    "\n",
    "## Output:\n",
    "{\n",
    "  \"is_customer\": \"False\",\n",
    "  \"summary\": \"The poster describes a misunderstanding where their company was charged $20,000 for a SentinelOne license through Ninja, which was resolved amicably after discussions.\",\n",
    "  \"competitor\": \"\",\n",
    "  \"advantages\": [\"Customer Support\"],\n",
    "  \"disadvantages\": [\"Cost\"],\n",
    "  \"sentiment\": \"Natural\"\n",
    "}\n",
    "\n",
    "# Notes:\n",
    "Be concise in your output, but ensure all key details are captured.\n",
    "If multiple competitors are mentioned, list only the primary one.\n",
    "For advantages/disadvantages, infer based on explicit comparisons or implied sentiments in the text.\"\"\""
   ]
  },
  {
   "cell_type": "code",
   "execution_count": 3,
   "metadata": {},
   "outputs": [
    {
     "name": "stderr",
     "output_type": "stream",
     "text": [
      "2025-01-26 16:12:11,365 - sales_competitor_analysis.reddit_data_collector - INFO - Loading post from C:\\repos\\sales_competitor_analysis\\posts\\104xsu8.json\n",
      "2025-01-26 16:12:11,366 - sales_competitor_analysis.reddit_data_collector - INFO - Loaded post.id='104xsu8' from C:\\repos\\sales_competitor_analysis\\posts\\104xsu8.json\n"
     ]
    }
   ],
   "source": [
    "from sales_competitor_analysis.reddit_data_collector import RedditDataCollector\n",
    "\n",
    "reddit_data_collector = RedditDataCollector(\"\")\n",
    "post_file_path = r\"C:\\repos\\sales_competitor_analysis\\posts\\104xsu8.json\"\n",
    "post = reddit_data_collector._load_post(post_file_path)"
   ]
  },
  {
   "cell_type": "code",
   "execution_count": null,
   "metadata": {},
   "outputs": [],
   "source": [
    "results_json_schema = {\n",
    "  \"name\": \"customer_feedback\",\n",
    "  \"schema\": {\n",
    "    \"type\": \"object\",\n",
    "    \"properties\": {\n",
    "      \"customer_status\": {\n",
    "        \"type\": \"string\",\n",
    "        \"description\": \"Indicates whether the customer is currently active, inactive, or has any particular status.\"\n",
    "      },\n",
    "      \"summary\": {\n",
    "        \"type\": \"string\",\n",
    "        \"description\": \"A brief overview of the customer's experience or issue.\"\n",
    "      },\n",
    "      \"competitor\": {\n",
    "        \"type\": \"string\",\n",
    "        \"description\": \"The name of the competitor being discussed or compared.\"\n",
    "      },\n",
    "      \"advantages\": {\n",
    "        \"type\": \"array\",\n",
    "        \"description\": \"List of advantages noted by the customer regarding the service or product.\",\n",
    "        \"items\": {\n",
    "          \"type\": \"string\"\n",
    "        }\n",
    "      },\n",
    "      \"disadvantages\": {\n",
    "        \"type\": \"array\",\n",
    "        \"description\": \"List of disadvantages noted by the customer regarding the service or product.\",\n",
    "        \"items\": {\n",
    "          \"type\": \"string\"\n",
    "        }\n",
    "      },\n",
    "      \"sentiment\": {\n",
    "        \"type\": \"string\",\n",
    "        \"description\": \"The overall sentiment of the customer, could be positive, negative, or neutral.\"\n",
    "      }\n",
    "    },\n",
    "    \"required\": [\n",
    "      \"customer_status\",\n",
    "      \"summary\",\n",
    "      \"competitor\",\n",
    "      \"advantages\",\n",
    "      \"disadvantages\",\n",
    "      \"sentiment\"\n",
    "    ],\n",
    "    \"additionalProperties\": false\n",
    "  },\n",
    "  \"strict\": true\n",
    "}"
   ]
  },
  {
   "cell_type": "code",
   "execution_count": 4,
   "metadata": {},
   "outputs": [],
   "source": [
    "def process_post_for_prompt(post):\n",
    "    return f\"\"\"Title: \"{post.title}\"\n",
    "Text: \"{post.text}\" \"\"\"\n",
    "\n",
    "response = client.chat.completions.create(\n",
    "    model=\"gpt-4o-mini\",\n",
    "    messages=[\n",
    "        {\"role\": \"system\", \"content\": get_system_message()},\n",
    "        {\"role\": \"user\", \"content\": process_post_for_prompt(post)}\n",
    "    ],\n",
    "    max_tokens=1000,\n",
    "    response_format={\"type\": \"json_object\"}\n",
    ")"
   ]
  },
  {
   "cell_type": "code",
   "execution_count": 5,
   "metadata": {},
   "outputs": [
    {
     "name": "stdout",
     "output_type": "stream",
     "text": [
      "{\n",
      "  \"is_customer\": \"False\",\n",
      "  \"summary\": \"The poster is curious about the high regard for SentinelOne, questioning if it's due to its performance or cost compared to older AV solutions like Webroot, while noting past failures of SentinelOne in catching lateral movements.\",\n",
      "  \"competitor\": \"Webroot\",\n",
      "  \"advantages\": [],\n",
      "  \"disadvantages\": [\"Security Performance\"],\n",
      "  \"sentiment\": \"Negative\"\n",
      "}\n"
     ]
    }
   ],
   "source": [
    "print(response.choices[0].message.content)"
   ]
  },
  {
   "cell_type": "code",
   "execution_count": 6,
   "metadata": {},
   "outputs": [],
   "source": [
    "from functools import partial\n",
    "from sales_competitor_analysis.data_models.summarized_post import SummarizedPost\n",
    "import importlib\n",
    "\n",
    "importlib.import_module(\"sales_competitor_analysis\")\n",
    "\n",
    "a = SummarizedPost.model_validate_json(response.choices[0].message.content)"
   ]
  },
  {
   "cell_type": "code",
   "execution_count": 7,
   "metadata": {},
   "outputs": [],
   "source": [
    "a.save_to_json_file(r\"C:\\repos\\sales_competitor_analysis\\posts\\104xsu8_summary.json\")"
   ]
  }
 ],
 "metadata": {
  "kernelspec": {
   "display_name": "LLMExcersie",
   "language": "python",
   "name": "python3"
  },
  "language_info": {
   "codemirror_mode": {
    "name": "ipython",
    "version": 3
   },
   "file_extension": ".py",
   "mimetype": "text/x-python",
   "name": "python",
   "nbconvert_exporter": "python",
   "pygments_lexer": "ipython3",
   "version": "3.12.8"
  }
 },
 "nbformat": 4,
 "nbformat_minor": 2
}
